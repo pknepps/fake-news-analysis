{
 "cells": [
  {
   "cell_type": "markdown",
   "metadata": {},
   "source": [
    "# Fake News Analysis\n",
    "- Preston Knepper\n",
    "- Zachary Eanes\n",
    "- Kevin McCall\n",
    "\n",
    "__Link to Dataset:__ https://www.kaggle.com/datasets/saurabhshahane/fake-news-classification"
   ]
  },
  {
   "cell_type": "markdown",
   "metadata": {},
   "source": [
    "## Exploritory data anlysis."
   ]
  },
  {
   "cell_type": "code",
   "execution_count": null,
   "metadata": {},
   "outputs": [
    {
     "name": "stderr",
     "output_type": "stream",
     "text": [
      "/usr/lib/python3/dist-packages/scipy/__init__.py:146: UserWarning: A NumPy version >=1.17.3 and <1.25.0 is required for this version of SciPy (detected version 1.26.4\n",
      "  warnings.warn(f\"A NumPy version >={np_minversion} and <{np_maxversion}\"\n"
     ]
    }
   ],
   "source": [
    "import pandas as pd\n",
    "import numpy as np\n",
    "import seaborn as sn\n",
    "\n",
    "df = pd.read_csv(\"WELFake_Dataset.csv\")"
   ]
  },
  {
   "cell_type": "code",
   "execution_count": 4,
   "metadata": {},
   "outputs": [
    {
     "name": "stdout",
     "output_type": "stream",
     "text": [
      "==== HEAD ====\n",
      "    Unnamed: 0                                              title  \\\n",
      "0           0  LAW ENFORCEMENT ON HIGH ALERT Following Threat...   \n",
      "1           1                                                NaN   \n",
      "2           2  UNBELIEVABLE! OBAMA’S ATTORNEY GENERAL SAYS MO...   \n",
      "3           3  Bobby Jindal, raised Hindu, uses story of Chri...   \n",
      "4           4  SATAN 2: Russia unvelis an image of its terrif...   \n",
      "5           5  About Time! Christian Group Sues Amazon and SP...   \n",
      "6           6  DR BEN CARSON TARGETED BY THE IRS: “I never ha...   \n",
      "7           7  HOUSE INTEL CHAIR On Trump-Russia Fake Story: ...   \n",
      "8           8  Sports Bar Owner Bans NFL Games…Will Show Only...   \n",
      "9           9  Latest Pipeline Leak Underscores Dangers Of Da...   \n",
      "\n",
      "                                                text  label  \n",
      "0  No comment is expected from Barack Obama Membe...      1  \n",
      "1     Did they post their votes for Hillary already?      1  \n",
      "2   Now, most of the demonstrators gathered last ...      1  \n",
      "3  A dozen politically active pastors came here f...      0  \n",
      "4  The RS-28 Sarmat missile, dubbed Satan 2, will...      1  \n",
      "5  All we can say on this one is it s about time ...      1  \n",
      "6  DR. BEN CARSON TELLS THE STORY OF WHAT HAPPENE...      1  \n",
      "7                                                         1  \n",
      "8  The owner of the Ringling Bar, located south o...      1  \n",
      "9  FILE – In this Sept. 15, 2005 file photo, the ...      1   \n",
      "\n",
      "==== SAMPLE ====\n",
      "        Unnamed: 0                                              title  \\\n",
      "6645         6645           Federer survives Tiafoe scare to advance   \n",
      "59513       59513   Federal Judge Demands RNC Reveal Details Of V...   \n",
      "58533       58533  Collusion Between Facebook and Hillary’s Campa...   \n",
      "65387       65387  The Tao of Matthew McConaughey - The New York ...   \n",
      "53425       53425  Who’s Better: “Dangerous Donald” or “Crooked H...   \n",
      "7395         7395  Russian serviceman in Chechnya kills four serv...   \n",
      "40661       40661  Former Trump campaign adviser denies encouragi...   \n",
      "31218       31218  WATCH WHAT HAPPENS WHEN COLLEGE STUDENTS ARE A...   \n",
      "40595       40595      Republicans outfox Democrats on climate votes   \n",
      "8582         8582  Review: In ‘Queen of Katwe,’ a Pawn Finds Her ...   \n",
      "\n",
      "                                                    text  label  \n",
      "6645   NEW YORK (Reuters) - World number three Roger ...      0  \n",
      "59513  A federal judge has ordered the Republican Nat...      1  \n",
      "58533  Email \\nWho would have thought right? Hillary’...      1  \n",
      "65387  Matthew McConaughey has two movies out this mo...      0  \n",
      "53425  21st Century Wire says Now that the Democratic...      1  \n",
      "7395   MOSCOW (Reuters) - A Russian serviceman in the...      0  \n",
      "40661  WASHINGTON (Reuters) - A former senior adviser...      0  \n",
      "31218  Listen to the mind boggling answers to these q...      1  \n",
      "40595  The party looks to Kamala Harris, Catherine Co...      0  \n",
      "8582   “Irresistible” is one of those adjectives that...      0   \n",
      "\n",
      "<class 'pandas.core.frame.DataFrame'>\n",
      "RangeIndex: 72134 entries, 0 to 72133\n",
      "Data columns (total 4 columns):\n",
      " #   Column      Non-Null Count  Dtype \n",
      "---  ------      --------------  ----- \n",
      " 0   Unnamed: 0  72134 non-null  int64 \n",
      " 1   title       71576 non-null  object\n",
      " 2   text        72095 non-null  object\n",
      " 3   label       72134 non-null  int64 \n",
      "dtypes: int64(2), object(2)\n",
      "memory usage: 2.2+ MB\n",
      "None\n"
     ]
    }
   ],
   "source": [
    "print(\"==== HEAD ====\\n\", df.head(10), \"\\n\")\n",
    "print(\"==== SAMPLE ====\\n\", df.sample(10), \"\\n\")\n",
    "print(df.info())"
   ]
  },
  {
   "cell_type": "markdown",
   "metadata": {},
   "source": [
    "There are less than 1000 missing titles and less than 100 missing texts. So we will just remove them."
   ]
  },
  {
   "cell_type": "code",
   "execution_count": 8,
   "metadata": {},
   "outputs": [
    {
     "name": "stdout",
     "output_type": "stream",
     "text": [
      "<class 'pandas.core.frame.DataFrame'>\n",
      "Index: 71537 entries, 0 to 72133\n",
      "Data columns (total 4 columns):\n",
      " #   Column      Non-Null Count  Dtype \n",
      "---  ------      --------------  ----- \n",
      " 0   Unnamed: 0  71537 non-null  int64 \n",
      " 1   title       71537 non-null  object\n",
      " 2   text        71537 non-null  object\n",
      " 3   label       71537 non-null  int64 \n",
      "dtypes: int64(2), object(2)\n",
      "memory usage: 2.7+ MB\n",
      "None\n"
     ]
    }
   ],
   "source": [
    "df = df.dropna()\n",
    "print(df.info())"
   ]
  },
  {
   "cell_type": "markdown",
   "metadata": {},
   "source": [
    "Our dataset had 4 columns with 71,537 entries (after removal). The columns are id, title, text, and label. Id will not be used, Title is the title of the news article, Text is the body text of the news article, and label is 1 if the article is true and 0 if the article is false.\n",
    "\n",
    "We will be looking into the distribution of title and text lengths as well as the distributions of real vs fake articles."
   ]
  },
  {
   "cell_type": "code",
   "execution_count": null,
   "metadata": {},
   "outputs": [],
   "source": []
  }
 ],
 "metadata": {
  "kernelspec": {
   "display_name": "Python 3",
   "language": "python",
   "name": "python3"
  },
  "language_info": {
   "codemirror_mode": {
    "name": "ipython",
    "version": 3
   },
   "file_extension": ".py",
   "mimetype": "text/x-python",
   "name": "python",
   "nbconvert_exporter": "python",
   "pygments_lexer": "ipython3",
   "version": "3.10.12"
  }
 },
 "nbformat": 4,
 "nbformat_minor": 2
}
