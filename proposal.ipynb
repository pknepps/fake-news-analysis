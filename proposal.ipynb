{
 "cells": [
  {
   "cell_type": "markdown",
   "metadata": {},
   "source": [
    "# Fake News Analysis Proposal\n",
    "- Preston Knepper\n",
    "- Zach Eanes\n",
    "- Kevin McCall"
   ]
  },
  {
   "cell_type": "markdown",
   "metadata": {},
   "source": [
    "For this project, we would like to do textual classification on the *Fake News Classification* dataset on Kaggle. The dataset includes article headlines, body text, and whether the article is \"fake news\" or not. We would like to use a Text Classification Pipeline in python and a Large Language Model to determine which is the better model. The goal is to determine which model better classifies the texts. Here is a [Link to the dataset](https://www.kaggle.com/datasets/saurabhshahane/fake-news-classification)."
   ]
  }
 ],
 "metadata": {
  "language_info": {
   "name": "python"
  }
 },
 "nbformat": 4,
 "nbformat_minor": 2
}
