{
 "cells": [
  {
   "cell_type": "markdown",
   "metadata": {},
   "source": [
    "# ***Fake News Analysis***\n",
    "\n",
    "### MATH475 Final Project\n",
    "\n",
    "Authors:\n",
    "- Preston Knepper\n",
    "- Zachary Eanes\n",
    "- Kevin McCall\n",
    "\n",
    "__Link to Dataset:__ https://www.kaggle.com/datasets/saurabhshahane/fake-news-classification\n",
    "\n",
    "This was completed with minimal AI assistance.\n",
    "\n",
    "## ***Part I: Data Exploration and Preprocessing***\n",
    "Due: 11/24/2024\n"
   ]
  },
  {
   "cell_type": "markdown",
   "metadata": {},
   "source": [
    "## **Exploratory Data Analysis**\n",
    "\n",
    "In this section of the assignment, we begin by exploring our fake news dataset. This includes many parts, such as removing unnecessary columns, checking for missing values, visualizing the data, and attempting to find general trends and correlations in our data.\n",
    "\n",
    "First, we begin by looking at the basic information our dataset contains. "
   ]
  },
  {
   "cell_type": "code",
   "execution_count": 2,
   "metadata": {},
   "outputs": [
    {
     "name": "stderr",
     "output_type": "stream",
     "text": [
      "/usr/lib/python3/dist-packages/scipy/__init__.py:146: UserWarning: A NumPy version >=1.17.3 and <1.25.0 is required for this version of SciPy (detected version 1.26.4\n",
      "  warnings.warn(f\"A NumPy version >={np_minversion} and <{np_maxversion}\"\n"
     ]
    }
   ],
   "source": [
    "# import necessary libraries\n",
    "import pandas as pd\n",
    "import numpy as np\n",
    "import seaborn as sns\n",
    "import matplotlib.pyplot as plt\n",
    "\n",
    "# save the dataset into a variable\n",
    "df = pd.read_csv(\"WELFake_Dataset.csv\")"
   ]
  },
  {
   "cell_type": "code",
   "execution_count": 3,
   "metadata": {},
   "outputs": [
    {
     "name": "stdout",
     "output_type": "stream",
     "text": [
      "==== HEAD ====\n",
      "    Unnamed: 0                                              title  \\\n",
      "0           0  LAW ENFORCEMENT ON HIGH ALERT Following Threat...   \n",
      "1           1                                                NaN   \n",
      "2           2  UNBELIEVABLE! OBAMA’S ATTORNEY GENERAL SAYS MO...   \n",
      "3           3  Bobby Jindal, raised Hindu, uses story of Chri...   \n",
      "4           4  SATAN 2: Russia unvelis an image of its terrif...   \n",
      "5           5  About Time! Christian Group Sues Amazon and SP...   \n",
      "6           6  DR BEN CARSON TARGETED BY THE IRS: “I never ha...   \n",
      "7           7  HOUSE INTEL CHAIR On Trump-Russia Fake Story: ...   \n",
      "8           8  Sports Bar Owner Bans NFL Games…Will Show Only...   \n",
      "9           9  Latest Pipeline Leak Underscores Dangers Of Da...   \n",
      "\n",
      "                                                text  label  \n",
      "0  No comment is expected from Barack Obama Membe...      1  \n",
      "1     Did they post their votes for Hillary already?      1  \n",
      "2   Now, most of the demonstrators gathered last ...      1  \n",
      "3  A dozen politically active pastors came here f...      0  \n",
      "4  The RS-28 Sarmat missile, dubbed Satan 2, will...      1  \n",
      "5  All we can say on this one is it s about time ...      1  \n",
      "6  DR. BEN CARSON TELLS THE STORY OF WHAT HAPPENE...      1  \n",
      "7                                                         1  \n",
      "8  The owner of the Ringling Bar, located south o...      1  \n",
      "9  FILE – In this Sept. 15, 2005 file photo, the ...      1   \n",
      "\n",
      "==== SAMPLE ====\n",
      "        Unnamed: 0                                              title  \\\n",
      "51964       51964  Brent Musburger: Olbermann Should Stick to Spo...   \n",
      "32382       32382  Saudis Foil ISIS Terror Attacks on Packed Stadium   \n",
      "31251       31251  Fox News: Senior Obama Intelligence Official U...   \n",
      "35599       35599  A Conspiracy Theory’s Journey From Talk Radio ...   \n",
      "2059         2059  These Declassified Emails Show NATO Killed Gad...   \n",
      "13453       13453       Gowdy and Cummings duke it out over Benghazi   \n",
      "43897       43897  Trump tax plan would aid Wall St. despite clos...   \n",
      "53652       53652  BRONX HOSPITAL SHOOTING: Multiple People Shot,...   \n",
      "21001       21001  Court decision shifts abortion battle to state...   \n",
      "201           201  Chris Paul’s Fast Hands and Gruesome Fingers -...   \n",
      "\n",
      "                                                    text  label  \n",
      "51964  During the Thursday edition of “The Dan Patric...      0  \n",
      "32382  Saudi Arabia says it has thwarted two ISIS ter...      1  \n",
      "31251  Fox News correspondent Adam Housley reported F...      0  \n",
      "35599  WASHINGTON  —   It began at 6 p. m. Thursday a...      0  \n",
      "2059   Share on Facebook Hillary's emails truly are t...      1  \n",
      "13453  Top Dems want White House to call off Part B d...      0  \n",
      "43897  WASHINGTON (Reuters) - U.S. Republican preside...      0  \n",
      "53652  21st Century Wire says Several people have bee...      1  \n",
      "21001  (Reuters) - The battle over abortion was expec...      0  \n",
      "201    LOS ANGELES  —   Chris Paul examined his crook...      0   \n",
      "\n",
      "<class 'pandas.core.frame.DataFrame'>\n",
      "RangeIndex: 72134 entries, 0 to 72133\n",
      "Data columns (total 4 columns):\n",
      " #   Column      Non-Null Count  Dtype \n",
      "---  ------      --------------  ----- \n",
      " 0   Unnamed: 0  72134 non-null  int64 \n",
      " 1   title       71576 non-null  object\n",
      " 2   text        72095 non-null  object\n",
      " 3   label       72134 non-null  int64 \n",
      "dtypes: int64(2), object(2)\n",
      "memory usage: 2.2+ MB\n",
      "None\n"
     ]
    }
   ],
   "source": [
    "# display initial information about the dataset\n",
    "print(\"==== HEAD ====\\n\", df.head(10), \"\\n\")\n",
    "print(\"==== SAMPLE ====\\n\", df.sample(10), \"\\n\")\n",
    "print(df.info())"
   ]
  },
  {
   "cell_type": "markdown",
   "metadata": {},
   "source": [
    "\n",
    "### ***Handling missing data***\n",
    "\n",
    "Since we've observed less than 100 missing titles and less than 100 missing texts, we will remove them from the dataset. We do this because the missing data is a small percentage of the total data and we can still perform analysis on the remaining data. Along with this, handling the missing data would've been tedious.\n",
    "\n",
    "Similarly, we drop the first column, which is just an index column. This won't be useful for our analysis."
   ]
  },
  {
   "cell_type": "code",
   "execution_count": 4,
   "metadata": {},
   "outputs": [
    {
     "name": "stdout",
     "output_type": "stream",
     "text": [
      "<class 'pandas.core.frame.DataFrame'>\n",
      "Index: 71537 entries, 0 to 72133\n",
      "Data columns (total 3 columns):\n",
      " #   Column  Non-Null Count  Dtype \n",
      "---  ------  --------------  ----- \n",
      " 0   title   71537 non-null  object\n",
      " 1   text    71537 non-null  object\n",
      " 2   label   71537 non-null  int64 \n",
      "dtypes: int64(1), object(2)\n",
      "memory usage: 2.2+ MB\n",
      "None\n"
     ]
    }
   ],
   "source": [
    "# remove missing values since we have so few\n",
    "df = df.dropna()\n",
    "\n",
    "# remove the 'Unnamed: 0' column\n",
    "df = df.drop(columns=['Unnamed: 0'])\n",
    "\n",
    "print(df.info())"
   ]
  },
  {
   "cell_type": "code",
   "execution_count": 5,
   "metadata": {},
   "outputs": [],
   "source": [
    "# change the label to category, 0 or 1\n",
    "df['label'] = df['label'].astype('category')"
   ]
  },
  {
   "cell_type": "markdown",
   "metadata": {},
   "source": [
    "### ***Column Analysis***\n",
    "Our dataset had 4 columns with 71,537 entries (after removal). The columns are id, title, text, and label. We interpret and use the columns as follows:\n",
    "\n",
    "- **ID:** will not be used.\n",
    "- **Title:** is the title of the news article.\n",
    "- **Text:** the body text of the news article.\n",
    "- **Label:** is 1 if the article is true and 0 if the article is false.\n",
    "\n",
    "We will be looking into the distribution of title and text lengths as well as the distributions of real vs fake articles."
   ]
  },
  {
   "cell_type": "code",
   "execution_count": 6,
   "metadata": {},
   "outputs": [
    {
     "data": {
      "text/plain": [
       "label\n",
       "1    36509\n",
       "0    35028\n",
       "Name: count, dtype: int64"
      ]
     },
     "execution_count": 6,
     "metadata": {},
     "output_type": "execute_result"
    }
   ],
   "source": [
    "# count our label values\n",
    "df[\"label\"].value_counts()"
   ]
  },
  {
   "cell_type": "markdown",
   "metadata": {},
   "source": [
    "Handily, we have roughly equal counts of fake new and real new articles."
   ]
  },
  {
   "cell_type": "code",
   "execution_count": 7,
   "metadata": {},
   "outputs": [],
   "source": [
    "# make a new column which is the length of title and text \n",
    "with_len = df.copy()\n",
    "with_len[\"title_len\"] = with_len[\"title\"].apply(len)\n",
    "with_len[\"text_len\"] = with_len[\"text\"].apply(len)\n",
    "with_len.head()\n",
    "\n",
    "def count_uppercase(text):\n",
    "    \"\"\" \n",
    "    Counts the number of uppercase characters in a text.\n",
    "\n",
    "    Args:\n",
    "        text (str): The text to count uppercase characters in.\n",
    "    \"\"\"\n",
    "    count = 0\n",
    "    for char in text:\n",
    "        if char.isalpha() and char.upper() == char:\n",
    "            count += 1\n",
    "    return count\n",
    "\n",
    "# apply the function to the title and text columns\n",
    "with_len[\"uppercase_title_len\"] = with_len[\"title\"].apply(count_uppercase)\n",
    "with_len[\"uppercase_text_len\"] = with_len[\"text\"].apply(count_uppercase)"
   ]
  },
  {
   "cell_type": "markdown",
   "metadata": {},
   "source": [
    "## ***Visualizations***\n",
    "\n",
    "Next we will be visualizing the distribution of all of our columns, as well as comparing them to label. This is aims to see if there's a relation between the columns shares some form of relation with the label."
   ]
  },
  {
   "cell_type": "code",
   "execution_count": 8,
   "metadata": {},
   "outputs": [
    {
     "data": {
      "image/png": "[encoded data removed]",
      "text/plain": [
       "<Figure size 432x288 with 1 Axes>"
      ]
     },
     "metadata": {
      "needs_background": "light"
     },
     "output_type": "display_data"
    },
    {
     "data": {
      "image/png": "[encoded data removed]",
      "text/plain": [
       "<Figure size 432x288 with 1 Axes>"
      ]
     },
     "metadata": {
      "needs_background": "light"
     },
     "output_type": "display_data"
    },
    {
     "data": {
      "image/png": "[encoded data removed]",
      "text/plain": [
       "<Figure size 368x360 with 1 Axes>"
      ]
     },
     "metadata": {
      "needs_background": "light"
     },
     "output_type": "display_data"
    },
    {
     "data": {
      "image/png": "[encoded data removed]",
      "text/plain": [
       "<Figure size 432x288 with 1 Axes>"
      ]
     },
     "metadata": {
      "needs_background": "light"
     },
     "output_type": "display_data"
    },
    {
     "data": {
      "image/png": "[encoded data removed]",
      "text/plain": [
       "<Figure size 368x360 with 1 Axes>"
      ]
     },
     "metadata": {
      "needs_background": "light"
     },
     "output_type": "display_data"
    },
    {
     "data": {
      "image/png": "[encoded data removed]",
      "text/plain": [
       "<Figure size 432x288 with 1 Axes>"
      ]
     },
     "metadata": {
      "needs_background": "light"
     },
     "output_type": "display_data"
    },
    {
     "data": {
      "image/png": "[encoded data removed]",
      "text/plain": [
       "<Figure size 368x360 with 1 Axes>"
      ]
     },
     "metadata": {
      "needs_background": "light"
     },
     "output_type": "display_data"
    },
    {
     "data": {
      "image/png": "[encoded data removed]",
      "text/plain": [
       "<Figure size 432x288 with 1 Axes>"
      ]
     },
     "metadata": {
      "needs_background": "light"
     },
     "output_type": "display_data"
    },
    {
     "data": {
      "image/png": "[encoded data removed]",
      "text/plain": [
       "<Figure size 368x360 with 1 Axes>"
      ]
     },
     "metadata": {
      "needs_background": "light"
     },
     "output_type": "display_data"
    }
   ],
   "source": [
    "def make_plots():\n",
    "    \"\"\" \n",
    "    Plot various columns in our dataset.\n",
    "    \"\"\"\n",
    "    # make plots of the distribution of the new columns, and how they compare to our label\n",
    "    for name in [\"label\", \"title_len\", \"text_len\", \"uppercase_title_len\", \"uppercase_text_len\"]:\n",
    "        # make histogram to see distribution of column\n",
    "        sns.histplot(with_len[name])\n",
    "        plt.title(f\"Distribution of {name}\")\n",
    "        plt.show()\n",
    "\n",
    "        # only make a plot vs. label IF it's not the label column itself\n",
    "        if name != \"label\":\n",
    "            # make a boxplot to see how the column compares to the label\n",
    "            sns.catplot(data=with_len, x=name, y=\"label\", kind=\"box\")\n",
    "            plt.title(f\"{name} vs label\")\n",
    "            plt.show()\n",
    "\n",
    "make_plots()"
   ]
  },
  {
   "cell_type": "markdown",
   "metadata": {},
   "source": [
    "Next we look into outliers in our dataset."
   ]
  },
  {
   "cell_type": "code",
   "execution_count": 9,
   "metadata": {},
   "outputs": [],
   "source": [
    "# get the indices of rows where the text length is greater than 60,000\n",
    "too_long = with_len[with_len[\"text_len\"] > 60000].index\n",
    "\n",
    "# drop the rows with those indices\n",
    "df.drop(too_long, inplace=True)\n",
    "with_len.drop(too_long, inplace=True)"
   ]
  },
  {
   "cell_type": "markdown",
   "metadata": {},
   "source": [
    "Since we cannot visually tell a correlation between length and fakeness and since there are 19 major outliers with > 60000 text_len, we will drop these articles.  "
   ]
  },
  {
   "cell_type": "code",
   "execution_count": 10,
   "metadata": {},
   "outputs": [
    {
     "data": {
      "image/png": "[encoded data removed]",
      "text/plain": [
       "<Figure size 432x288 with 1 Axes>"
      ]
     },
     "metadata": {
      "needs_background": "light"
     },
     "output_type": "display_data"
    },
    {
     "data": {
      "image/png": "[encoded data removed]",
      "text/plain": [
       "<Figure size 432x288 with 1 Axes>"
      ]
     },
     "metadata": {
      "needs_background": "light"
     },
     "output_type": "display_data"
    },
    {
     "data": {
      "image/png": "[encoded data removed]",
      "text/plain": [
       "<Figure size 368x360 with 1 Axes>"
      ]
     },
     "metadata": {
      "needs_background": "light"
     },
     "output_type": "display_data"
    },
    {
     "data": {
      "image/png": "[encoded data removed]",
      "text/plain": [
       "<Figure size 432x288 with 1 Axes>"
      ]
     },
     "metadata": {
      "needs_background": "light"
     },
     "output_type": "display_data"
    },
    {
     "data": {
      "image/png": "[encoded data removed]",
      "text/plain": [
       "<Figure size 368x360 with 1 Axes>"
      ]
     },
     "metadata": {
      "needs_background": "light"
     },
     "output_type": "display_data"
    },
    {
     "data": {
      "image/png": "[encoded data removed]",
      "text/plain": [
       "<Figure size 432x288 with 1 Axes>"
      ]
     },
     "metadata": {
      "needs_background": "light"
     },
     "output_type": "display_data"
    },
    {
     "data": {
      "image/png": "[encoded data removed]",
      "text/plain": [
       "<Figure size 368x360 with 1 Axes>"
      ]
     },
     "metadata": {
      "needs_background": "light"
     },
     "output_type": "display_data"
    },
    {
     "data": {
      "image/png": "[encoded data removed]",
      "text/plain": [
       "<Figure size 432x288 with 1 Axes>"
      ]
     },
     "metadata": {
      "needs_background": "light"
     },
     "output_type": "display_data"
    },
    {
     "data": {
      "image/png": "[encoded data removed]",
      "text/plain": [
       "<Figure size 368x360 with 1 Axes>"
      ]
     },
     "metadata": {
      "needs_background": "light"
     },
     "output_type": "display_data"
    }
   ],
   "source": [
    "# make plots again to see if there's a major difference\n",
    "make_plots()"
   ]
  },
  {
   "cell_type": "markdown",
   "metadata": {},
   "source": [
    "Below was commented out because it takes a lot of time to compile when I needed to run the entire notebook."
   ]
  },
  {
   "cell_type": "code",
   "execution_count": 11,
   "metadata": {},
   "outputs": [],
   "source": [
    "# from sklearn.feature_extraction.text import CountVectorizer\n",
    "# import seaborn as sns\n",
    "\n",
    "# # convert titles into a Bag of Words matrix\n",
    "# vectorizer = CountVectorizer()\n",
    "# bow_matrix = vectorizer.fit_transform(df['title']).toarray()\n",
    "\n",
    "# # create a DataFrame of BoW with labels\n",
    "# bow_df = pd.DataFrame(bow_matrix, columns=vectorizer.get_feature_names_out())\n",
    "# bow_df['label'] = df['label']\n",
    "\n",
    "# # compute mean occurrence for True/False labels\n",
    "# heatmap_data = bow_df.groupby('label').mean().T  # Transpose for words on rows\n",
    "\n",
    "# # plot it \n",
    "# sns.heatmap(heatmap_data, annot=True, cmap=\"coolwarm\", cbar=True)\n",
    "# plt.title(\"Heatmap of Words vs Labels\")\n",
    "# plt.xlabel(\"Label\")\n",
    "# plt.ylabel(\"Word\")\n",
    "# plt.show()"
   ]
  },
  {
   "cell_type": "markdown",
   "metadata": {},
   "source": [
    "### ***Initial Observations to Plots***\n",
    "\n",
    "Initially looking at these plots, the largest relation we identify is that uppercase_title_len seems to have a higher length for real news articles. We believe that this may be due to the fact that real news articles may have more formal titles, thus leading to an overall increase in the amount of capital letters used in the title. This could be names, towns and cities, or other proper nouns that are capitalized in the title.\n",
    "\n",
    "Overall, looking at the heatmap we're not able to really get any kind of information from it. Although, Zach spent a decent amount of time getting this to work, so we decided to leave it in. \n",
    "\n",
    "Similarly, there's seems to be a similar relationship with title_len being longer for a real news articles. We believe this may be due to the fact that real news articles have more formal titles. A real news articles may require a more descriptive title to accurately describe the content of the article."
   ]
  },
  {
   "cell_type": "code",
   "execution_count": 12,
   "metadata": {},
   "outputs": [
    {
     "name": "stdout",
     "output_type": "stream",
     "text": [
      "How many common terms we found for Trump being true: 0\n",
      "\n",
      "How many common terms we found for Trump being false: 0\n",
      "\n",
      "How many common terms we found for Biden being true: 0\n",
      "\n",
      "How many common terms we found for Biden being false: 0\n",
      "\n",
      "How many common terms we found for Fascist being true: 0\n",
      "\n",
      "How many common terms we found for Fascist being false: 0\n",
      "\n"
     ]
    }
   ],
   "source": [
    "# search titles and highlight words that correlate to true or false\n",
    "def search_titles(search_term, label, print_results=False):\n",
    "    \"\"\" \n",
    "    Search titles for a search term and highlight words that correlate to true or false.\n",
    "\n",
    "    Args:\n",
    "        search_term (str): The term to search for.\n",
    "        label (str): The label to search for.\n",
    "        print_results (bool): Whether to print the results.\n",
    "    \"\"\"\n",
    "    # get the indices of rows where the title contains the search term\n",
    "    search_results = df[df[\"title\"].str.contains(search_term, case=False)].index\n",
    "\n",
    "    # get the indices of rows where the label matches the label we're looking for\n",
    "    label_results = df[df[\"label\"] == label].index\n",
    "\n",
    "    # get the intersection of the two sets of indices\n",
    "    common_indices = search_results.intersection(label_results)\n",
    "\n",
    "    # print the titles of the rows with those indices\n",
    "    if print_results:\n",
    "        for index in common_indices:\n",
    "            print(df.loc[index, \"title\"])\n",
    "\n",
    "    # print length of common indices\n",
    "    print(f'How many common terms we found for {search_term} being {label}: {len(common_indices)}\\n')\n",
    "\n",
    "# search for Trump in labels\n",
    "search_titles(\"Trump\", \"true\")\n",
    "search_titles(\"Trump\", \"false\")\n",
    "\n",
    "# search for Biden in labels\n",
    "search_titles(\"Biden\", \"true\")\n",
    "search_titles(\"Biden\", \"false\")\n",
    "\n",
    "# search for Fascist in labels\n",
    "search_titles(\"Fascist\", \"true\")\n",
    "search_titles(\"Fascist\", \"false\")"
   ]
  },
  {
   "cell_type": "markdown",
   "metadata": {},
   "source": [
    "### ***Function to search titles for certain terms***\n",
    "\n",
    "We created the search_terms function which searches our text files to see if a certain word is present. This function can be used to see if there's certain terms that are more likely to be present in true or fake news articles. \n",
    "\n",
    "Zach and Preston just had the idea to create this function, as he thought it's an interesting concept. Usability of it may be limited, but it's cool to see if there's any terms that are more likely to be present in fake news articles."
   ]
  },
  {
   "cell_type": "code",
   "execution_count": 13,
   "metadata": {},
   "outputs": [
    {
     "name": "stdout",
     "output_type": "stream",
     "text": [
      "Top 20 most common words in true text: \n",
      "Series([], Name: count, dtype: int64)\n",
      "\n",
      "\n",
      "Top 20 most common words in false text: \n",
      "Series([], Name: count, dtype: int64)\n",
      "\n",
      "\n",
      "Top 20 most common words in true title: \n",
      "Series([], Name: count, dtype: int64)\n",
      "\n",
      "\n",
      "Top 20 most common words in false title: \n",
      "Series([], Name: count, dtype: int64)\n",
      "\n",
      "\n"
     ]
    }
   ],
   "source": [
    "# list of common terms to ignore searching for\n",
    "ignore = [\n",
    "    'of', 'the', 'The', 'a', 'is', 'in', 'to', 'and', 'on', 'for', 'by', \n",
    "    'with', 'as', 'from', 'at', 'this', 'an', 'or', 'it', 'that', 'was',\n",
    "    'be', 'not', 'are', 'while', 'for', 'after', 'over', 'up', 'down', 's',\n",
    "    'he', 'have', 'his', 'her', 'they', 'their', 'we', 'our', 'us', 'you',\n",
    "    'has', 'had', 'will', 'would', 'should', 'could', 'can', 'do', 'did',\n",
    "    '”', '—', '[Video]', '(Video)', '[VIDEO]', '(VIDEO)', '–', '-'\n",
    "]\n",
    "\n",
    "\n",
    "def count_terms(label, column):\n",
    "    \"\"\" \n",
    "    Counts common terms in the corresponding label.\n",
    "\n",
    "    Args:\n",
    "        label (str): true or false label to search\n",
    "    \"\"\"\n",
    "    # get the indices of rows where the label matches the label we're looking for\n",
    "    label_results = df[df[\"label\"] == label].index\n",
    "\n",
    "    # get the text of the rows with those indices\n",
    "    text = df.loc[label_results, column]\n",
    "\n",
    "    # join the text into one big string\n",
    "    text = \" \".join(text)\n",
    "\n",
    "    # split the text into words\n",
    "    words = text.split()\n",
    "\n",
    "    # count the frequency of each word\n",
    "    word_counts = pd.Series(words).value_counts()\n",
    "\n",
    "    # remove common terms from the word counts\n",
    "    word_counts = word_counts.drop(ignore, errors='ignore')\n",
    "\n",
    "    # print the 20 most common words\n",
    "    print(f'Top 20 most common words in {label} {column}: \\n{word_counts.head(20)}\\n\\n')\n",
    "\n",
    "# count common terms in true/false text\n",
    "count_terms(\"true\", \"text\")\n",
    "count_terms(\"false\", \"text\")\n",
    "\n",
    "# count common terms in true/false title\n",
    "count_terms(\"true\", \"title\")\n",
    "count_terms(\"false\", \"title\")"
   ]
  },
  {
   "cell_type": "markdown",
   "metadata": {},
   "source": [
    "### ***Function to count common words***\n",
    "\n",
    "Similarly to the last section of checking specified words, Zach also was curious about seeing what the most common words were across all articles. This could be useful for future analysis, as we could see if there's any words that are more likely to be present in fake news articles. We aren't able to find any explicitly noticeable trends, but again it's an interesting idea to see if there's any words that are more likely to be present in fake news articles.\n",
    "\n",
    "This may be useful again in future analysis, as we can see exact words which tend to be more common."
   ]
  },
  {
   "cell_type": "code",
   "execution_count": 14,
   "metadata": {},
   "outputs": [
    {
     "ename": "ModuleNotFoundError",
     "evalue": "No module named 'indexer'",
     "output_type": "error",
     "traceback": [
      "\u001b[0;31m---------------------------------------------------------------------------\u001b[0m",
      "\u001b[0;31mModuleNotFoundError\u001b[0m                       Traceback (most recent call last)",
      "\u001b[0;32m/tmp/ipykernel_6457/2539280981.py\u001b[0m in \u001b[0;36m<module>\u001b[0;34m\u001b[0m\n\u001b[0;32m----> 1\u001b[0;31m \u001b[0;32mfrom\u001b[0m \u001b[0mspellchecker\u001b[0m \u001b[0;32mimport\u001b[0m \u001b[0mSpellChecker\u001b[0m\u001b[0;34m\u001b[0m\u001b[0;34m\u001b[0m\u001b[0m\n\u001b[0m\u001b[1;32m      2\u001b[0m \u001b[0;32mdef\u001b[0m \u001b[0mnum_typo\u001b[0m\u001b[0;34m(\u001b[0m\u001b[0mlabel\u001b[0m\u001b[0;34m)\u001b[0m \u001b[0;34m->\u001b[0m \u001b[0mbool\u001b[0m\u001b[0;34m:\u001b[0m\u001b[0;34m\u001b[0m\u001b[0;34m\u001b[0m\u001b[0m\n\u001b[1;32m      3\u001b[0m     \"\"\"\n\u001b[1;32m      4\u001b[0m     \u001b[0mcounts\u001b[0m \u001b[0mthe\u001b[0m \u001b[0mnumber\u001b[0m \u001b[0mof\u001b[0m \u001b[0mtypos\u001b[0m \u001b[0;32min\u001b[0m \u001b[0mtrue\u001b[0m \u001b[0;32mor\u001b[0m \u001b[0mfalse\u001b[0m \u001b[0mtitles\u001b[0m\u001b[0;34m.\u001b[0m\u001b[0;34m\u001b[0m\u001b[0;34m\u001b[0m\u001b[0m\n\u001b[1;32m      5\u001b[0m \u001b[0;34m\u001b[0m\u001b[0m\n",
      "\u001b[0;32m~/.local/lib/python3.10/site-packages/spellchecker/__init__.py\u001b[0m in \u001b[0;36m<module>\u001b[0;34m\u001b[0m\n\u001b[1;32m      1\u001b[0m \u001b[0;31m# -*- coding: utf-8 -*-\u001b[0m\u001b[0;34m\u001b[0m\u001b[0;34m\u001b[0m\u001b[0m\n\u001b[0;32m----> 2\u001b[0;31m \u001b[0;32mfrom\u001b[0m  \u001b[0mspellchecker\u001b[0m\u001b[0;34m.\u001b[0m\u001b[0mcore\u001b[0m \u001b[0;32mimport\u001b[0m \u001b[0mSpellchecker\u001b[0m\u001b[0;34m,\u001b[0m\u001b[0mgetInstance\u001b[0m\u001b[0;34m\u001b[0m\u001b[0;34m\u001b[0m\u001b[0m\n\u001b[0m\u001b[1;32m      3\u001b[0m \u001b[0;34m\u001b[0m\u001b[0m\n",
      "\u001b[0;32m~/.local/lib/python3.10/site-packages/spellchecker/core.py\u001b[0m in \u001b[0;36m<module>\u001b[0;34m\u001b[0m\n\u001b[1;32m     24\u001b[0m \u001b[0;32mimport\u001b[0m \u001b[0murllib\u001b[0m\u001b[0;34m\u001b[0m\u001b[0;34m\u001b[0m\u001b[0m\n\u001b[1;32m     25\u001b[0m \u001b[0;34m\u001b[0m\u001b[0m\n\u001b[0;32m---> 26\u001b[0;31m \u001b[0;32mfrom\u001b[0m \u001b[0mindexer\u001b[0m \u001b[0;32mimport\u001b[0m \u001b[0mDictionaryIndex\u001b[0m\u001b[0;34m\u001b[0m\u001b[0;34m\u001b[0m\u001b[0m\n\u001b[0m\u001b[1;32m     27\u001b[0m \u001b[0;32mfrom\u001b[0m \u001b[0mlangdetect\u001b[0m \u001b[0;32mimport\u001b[0m \u001b[0m_detect_lang\u001b[0m\u001b[0;34m\u001b[0m\u001b[0;34m\u001b[0m\u001b[0m\n\u001b[1;32m     28\u001b[0m \u001b[0;34m\u001b[0m\u001b[0m\n",
      "\u001b[0;31mModuleNotFoundError\u001b[0m: No module named 'indexer'"
     ]
    }
   ],
   "source": [
    "from spellchecker import SpellChecker\n",
    "def num_typo(label) -> bool:\n",
    "    \"\"\"\n",
    "    counts the number of typos in true or false titles.\n",
    "    \n",
    "    Args:\n",
    "        label (str): true or false label to search\n",
    "    \n",
    "    Returns:\n",
    "        bool: True if the title contains a typo, False otherwise.\n",
    "    \"\"\"\n",
    "    spell = SpellChecker()\n",
    "\n",
    "    # get the indices of rows where the label matches the label we're looking for\n",
    "    label_results = df[df[\"label\"] == label].index\n",
    "\n",
    "    # get the text of the rows with those indices\n",
    "    text = df.loc[label_results, \"title\"]\n",
    "\n",
    "    # split words by a space\n",
    "    words = \" \".join(text).split()\n",
    "\n",
    "    # find misspelled words\n",
    "    misspelled = spell.unknown(words)\n",
    "\n",
    "    # print amount of misspelled words\n",
    "    print(f'Number of misspelled words in {label}: {len(misspelled)}\\n')\n",
    "\n",
    "# check if the title contains a typo\n",
    "num_typo(\"true\")\n",
    "num_typo(\"false\")"
   ]
  },
  {
   "cell_type": "markdown",
   "metadata": {},
   "source": [
    "### ***Function to Count Typos***\n",
    "\n",
    "Zach had the idea to create a function which counted typos or misspellings in the titles for the articles, assuming that false titles may contain more typos. Oddly enough, we found that real news articles had more typos in their titles. This could be due to the fact that real news articles may have more formal titles, which may lead to more typos. Names, places, or proper nouns may be more present and leading to this oddity. "
   ]
  },
  {
   "cell_type": "markdown",
   "metadata": {},
   "source": [
    "# ***Feature Selection and Model Training***\n",
    "\n",
    "Due: 12/1/2024\n",
    "\n",
    "Authors:\n",
    "- Preston Knepper\n",
    "- Zachary Eanes\n",
    "- Kevin McCall\n",
    "\n",
    "In this section of the assignment, we will be selecting features and training models to predict whether an article is fake or real. We will be engineering new features, similar to the text_len and title_len we used earlier, and then training our model to predict. "
   ]
  },
  {
   "cell_type": "code",
   "execution_count": 16,
   "metadata": {},
   "outputs": [
    {
     "name": "stdout",
     "output_type": "stream",
     "text": [
      "              precision    recall  f1-score   support\n",
      "\n",
      "           0       0.92      0.90      0.91      6954\n",
      "           1       0.91      0.92      0.92      7350\n",
      "\n",
      "    accuracy                           0.91     14304\n",
      "   macro avg       0.91      0.91      0.91     14304\n",
      "weighted avg       0.91      0.91      0.91     14304\n",
      "\n"
     ]
    }
   ],
   "source": [
    "# use a model to predict the label\n",
    "from sklearn.model_selection import train_test_split\n",
    "from sklearn.feature_extraction.text import TfidfVectorizer\n",
    "from sklearn.linear_model import LogisticRegression\n",
    "from sklearn.metrics import classification_report\n",
    "\n",
    "# predict the label based on title, text, title_len, text_len, uppercase_title_len, uppercase_text_len\n",
    "# X = with_len[['title', 'text', 'title_len', 'text_len', 'uppercase_title_len', 'uppercase_text_len']]\n",
    "X = with_len[['title', 'text']]\n",
    "Y = with_len['label']\n",
    "\n",
    "# split the data into training and testing sets\n",
    "X_train, X_test, y_train, y_test = train_test_split(X, Y, test_size=0.2, random_state=42)\n",
    "\n",
    "# convert titles into a Bag of Words matrix\n",
    "vectorizer = TfidfVectorizer()\n",
    "X_train = vectorizer.fit_transform(X_train['title']).toarray()\n",
    "X_test = vectorizer.transform(X_test['title']).toarray()\n",
    "\n",
    "# create a logistic regression model\n",
    "model = LogisticRegression(max_iter=1000)\n",
    "\n",
    "# fit the model to the training data\n",
    "model.fit(X_train, y_train)\n",
    "\n",
    "# make predictions\n",
    "y_pred = model.predict(X_test)\n",
    "\n",
    "# get statistics\n",
    "print(classification_report(y_test, y_pred))\n"
   ]
  },
  {
   "cell_type": "markdown",
   "metadata": {},
   "source": [
    "## ***Interpreting our Results***\n",
    "\n",
    "We break down each of the results as follows:\n",
    "\n",
    "#### __Precision__: 0.90 for true, 0.92 for false\n",
    "\n",
    "Precision measures the accuracy of positive predictions. It's the ratio of true positives (correctly predicted positives) to the sum of true positives and false positives (incorrectly predicted positives). In this case, our model has a precision of 0.90 for true and 0.92 for false. This means that our model is able to accurately predict whether an article is fake or real.\n",
    "\n",
    "#### __Recall__: 0.92 for true, 0.90 for false\n",
    "\n",
    "Recall measures the ability of the model to find all the relevant cases within a dataset. It's the ratio of true positives to the sum of true positives and false negatives (missed positives). In this case, our model has a recall of 0.92 for true and 0.90 for false. This means that our model is able to accurately predict whether an article is fake or real.\n",
    "\n",
    "#### __F1 Score__: 0.91 for true, 0.91 for false\n",
    "\n",
    "F1 score gives us a weighted average of the precision and recall, which can give us a balanced understanding of both of the metrics. In this case, our model has an F1 score of 0.91 for true and 0.91 for false. This means that our model is able to accurately predict whether an article is fake or real.\n",
    "\n",
    "---\n",
    "\n",
    "Overall, we can see that our model is able to accurately predict whether an article is fake or real. This is due to the fact that our model has a high precision, recall, and F1 score for both true and false articles. "
   ]
  },
  {
   "cell_type": "markdown",
   "metadata": {},
   "source": [
    "### LLM"
   ]
  },
  {
   "cell_type": "markdown",
   "metadata": {},
   "source": [
    "We will now try to use a pre-trained, textual AI model to see if it produces accurate results. For this, we will be using Llama3.2 due to the fact that it is a free model. We will do this through the ollama library which uses llama_cpp found at https://github.com/ggerganov/llama.cpp. Due to the power and time required for the operation, the predictions were performed by writing to an external file."
   ]
  },
  {
   "cell_type": "code",
   "execution_count": 17,
   "metadata": {},
   "outputs": [],
   "source": [
    "from ollama import chat\n",
    "from ollama import ChatResponse\n",
    "import pandas as pd\n",
    "from typing import Mapping, Sequence\n",
    "\n",
    "prompt = \"\"\"\n",
    "You are a binary fact-checking AI specifically designed to classify news articles as True or False based on factual accuracy. \n",
    "\n",
    "Rules:\n",
    "1. Respond ONLY with \"True\" or \"False\"\n",
    "2. Do not explain, elaborate, or add any additional text\n",
    "3. Evaluate the entire article (title and body text) for factual veracity\n",
    "4. Consider multiple credibility factors:\n",
    "  - Source reliability\n",
    "  - Cross-referenced information\n",
    "  - Verifiable claims\n",
    "  - Potential misinformation markers\n",
    "5. Base your determination on whether the core claims in the article are factually supported\n",
    "6. If multiple claims exist, determine overall article truthfulness\n",
    "7. Err on the side of skepticism when evidence is ambiguous\n",
    "\n",
    "Focus solely on factual accuracy, not opinion or interpretation. Your goal is to\n",
    "identify whether the article presents true or false information.\n",
    "\n",
    "TITLE: {}\n",
    "\n",
    "TEXT: {}\n",
    "\"\"\"\n",
    "# df = pd.read_csv(\"WELFake_Dataset.csv\")\n",
    "titles: list[str] = df[\"title\"].to_list()\n",
    "texts: list[str] = df[\"text\"].to_list()\n",
    "length = len(titles)"
   ]
  },
  {
   "cell_type": "markdown",
   "metadata": {},
   "source": [
    "The following cell took 4 hours to run on RTX 3070, Ryzen 7 5800. Additionally,\n",
    "it was segmented into multiple runs because of optimizations that needed to be\n",
    "made. It is commented out so it is not accidentally ran"
   ]
  },
  {
   "cell_type": "code",
   "execution_count": null,
   "metadata": {},
   "outputs": [],
   "source": [
    "# START = 26324\n",
    "\n",
    "# with open(\"pred.csv\", \"a\", encoding=\"utf-8\") as file:\n",
    "#   # file.write(\"id, label\\n\")\n",
    "#   for i in range(START, length):\n",
    "#     if len(str(texts[i])) > 7573:\n",
    "#       continue\n",
    "#     response: ChatResponse = chat(model='llama3.2', messages=[\n",
    "#       {\n",
    "#         'role': 'user',\n",
    "#         'content': prompt.format(titles[i], texts[i])\n",
    "#       }\n",
    "#     ])\n",
    "#     if response[\"message\"][\"content\"].lower().strip() not in [\"true\", \"false\"]:\n",
    "#       print(f\"skipping {i}\")\n",
    "#       continue\n",
    "      \n",
    "#     print(f'{i}/{length}', end=\"\\n\")\n",
    "#     file.write(f'{i}, {response[\"message\"][\"content\"]}\\n')"
   ]
  },
  {
   "cell_type": "markdown",
   "metadata": {},
   "source": [
    "Here I saved the output and tried to find a pattern between what causes some to\n",
    "compute fast and other to not. I concluded that text length was the biggest\n",
    "factor, as if the article's text is too long, the input would fall outside of a\n",
    "LLM's context window, and they won't read the instructions. Additionally,\n",
    "performing copies on texts with thousands of characters is expensive. "
   ]
  },
  {
   "cell_type": "code",
   "execution_count": null,
   "metadata": {},
   "outputs": [],
   "source": [
    "# with open(\"successes.txt\", \"r\", encoding='utf-8') as f:\n",
    "#     too_long = [int(line[9:].strip()) for line in f if line.startswith(\"skipping \")]"
   ]
  },
  {
   "cell_type": "markdown",
   "metadata": {},
   "source": [
    "I decided on 7573 as cutoff point, as when I plotted the texts that failed, it\n",
    "landed in the 10th percentile of text lengths. By removing these entries from\n",
    "our dataset, we lose 2719 fake news samples and 2387 real news samples. This\n",
    "could cause a bias.\n"
   ]
  },
  {
   "cell_type": "code",
   "execution_count": 18,
   "metadata": {},
   "outputs": [
    {
     "data": {
      "text/plain": [
       "35609"
      ]
     },
     "execution_count": 18,
     "metadata": {},
     "output_type": "execute_result"
    }
   ],
   "source": [
    "with_len[with_len[\"text_len\"] > 7573.0].size"
   ]
  },
  {
   "cell_type": "code",
   "execution_count": 19,
   "metadata": {},
   "outputs": [
    {
     "data": {
      "text/plain": [
       "label\n",
       "0    2716\n",
       "1    2371\n",
       "Name: count, dtype: int64"
      ]
     },
     "execution_count": 19,
     "metadata": {},
     "output_type": "execute_result"
    }
   ],
   "source": [
    "with_len.loc[with_len[\"text_len\"] > 7573.0, \"label\"].value_counts()"
   ]
  },
  {
   "cell_type": "markdown",
   "metadata": {},
   "source": [
    "Here is the data being loaded in from disk after completing the run. It is a new\n",
    "CSV that contains the article_id and the prediction that llama3.2 made."
   ]
  },
  {
   "cell_type": "code",
   "execution_count": 20,
   "metadata": {},
   "outputs": [],
   "source": [
    "llamamama = pd.read_csv(\"pred.csv\", names=[\"daindex\", \"llama_label\"], header=0)\n",
    "llamamama.set_index(\"daindex\", inplace=True)"
   ]
  },
  {
   "cell_type": "code",
   "execution_count": 21,
   "metadata": {},
   "outputs": [
    {
     "data": {
      "text/html": [
       "<div>\n",
       "<style scoped>\n",
       "    .dataframe tbody tr th:only-of-type {\n",
       "        vertical-align: middle;\n",
       "    }\n",
       "\n",
       "    .dataframe tbody tr th {\n",
       "        vertical-align: top;\n",
       "    }\n",
       "\n",
       "    .dataframe thead th {\n",
       "        text-align: right;\n",
       "    }\n",
       "</style>\n",
       "<table border=\"1\" class=\"dataframe\">\n",
       "  <thead>\n",
       "    <tr style=\"text-align: right;\">\n",
       "      <th></th>\n",
       "      <th>llama_label</th>\n",
       "    </tr>\n",
       "    <tr>\n",
       "      <th>daindex</th>\n",
       "      <th></th>\n",
       "    </tr>\n",
       "  </thead>\n",
       "  <tbody>\n",
       "    <tr>\n",
       "      <th>0</th>\n",
       "      <td>False</td>\n",
       "    </tr>\n",
       "    <tr>\n",
       "      <th>1</th>\n",
       "      <td>False</td>\n",
       "    </tr>\n",
       "    <tr>\n",
       "      <th>2</th>\n",
       "      <td>False</td>\n",
       "    </tr>\n",
       "    <tr>\n",
       "      <th>3</th>\n",
       "      <td>False</td>\n",
       "    </tr>\n",
       "    <tr>\n",
       "      <th>4</th>\n",
       "      <td>False</td>\n",
       "    </tr>\n",
       "    <tr>\n",
       "      <th>...</th>\n",
       "      <td>...</td>\n",
       "    </tr>\n",
       "    <tr>\n",
       "      <th>72128</th>\n",
       "      <td>False</td>\n",
       "    </tr>\n",
       "    <tr>\n",
       "      <th>72129</th>\n",
       "      <td>False</td>\n",
       "    </tr>\n",
       "    <tr>\n",
       "      <th>72130</th>\n",
       "      <td>False</td>\n",
       "    </tr>\n",
       "    <tr>\n",
       "      <th>72131</th>\n",
       "      <td>False</td>\n",
       "    </tr>\n",
       "    <tr>\n",
       "      <th>72132</th>\n",
       "      <td>True</td>\n",
       "    </tr>\n",
       "  </tbody>\n",
       "</table>\n",
       "<p>67380 rows × 1 columns</p>\n",
       "</div>"
      ],
      "text/plain": [
       "        llama_label\n",
       "daindex            \n",
       "0             False\n",
       "1             False\n",
       "2             False\n",
       "3             False\n",
       "4             False\n",
       "...             ...\n",
       "72128         False\n",
       "72129         False\n",
       "72130         False\n",
       "72131         False\n",
       "72132          True\n",
       "\n",
       "[67380 rows x 1 columns]"
      ]
     },
     "execution_count": 21,
     "metadata": {},
     "output_type": "execute_result"
    }
   ],
   "source": [
    "llamamama"
   ]
  },
  {
   "cell_type": "markdown",
   "metadata": {},
   "source": [
    "There is a huge discrepency of the data calculated by llama. It guessed that\n",
    "the news articles were fake 61549 of the time and real 5831 of the time."
   ]
  },
  {
   "cell_type": "code",
   "execution_count": 22,
   "metadata": {},
   "outputs": [
    {
     "data": {
      "text/plain": [
       "llama_label\n",
       "False    61549\n",
       "True      5831\n",
       "Name: count, dtype: int64"
      ]
     },
     "metadata": {},
     "output_type": "display_data"
    }
   ],
   "source": [
    "for column in llamamama.columns:\n",
    "    display(llamamama[column].value_counts().sort_values(ascending=False))"
   ]
  },
  {
   "cell_type": "markdown",
   "metadata": {},
   "source": [
    "Perform an inner join to compare the guesses to the real results"
   ]
  },
  {
   "cell_type": "code",
   "execution_count": 23,
   "metadata": {},
   "outputs": [
    {
     "data": {
      "text/html": [
       "<div>\n",
       "<style scoped>\n",
       "    .dataframe tbody tr th:only-of-type {\n",
       "        vertical-align: middle;\n",
       "    }\n",
       "\n",
       "    .dataframe tbody tr th {\n",
       "        vertical-align: top;\n",
       "    }\n",
       "\n",
       "    .dataframe thead th {\n",
       "        text-align: right;\n",
       "    }\n",
       "</style>\n",
       "<table border=\"1\" class=\"dataframe\">\n",
       "  <thead>\n",
       "    <tr style=\"text-align: right;\">\n",
       "      <th></th>\n",
       "      <th>llama_label</th>\n",
       "      <th>title</th>\n",
       "      <th>text</th>\n",
       "      <th>label</th>\n",
       "      <th>title_len</th>\n",
       "      <th>text_len</th>\n",
       "      <th>uppercase_title_len</th>\n",
       "      <th>uppercase_text_len</th>\n",
       "    </tr>\n",
       "  </thead>\n",
       "  <tbody>\n",
       "    <tr>\n",
       "      <th>0</th>\n",
       "      <td>0</td>\n",
       "      <td>LAW ENFORCEMENT ON HIGH ALERT Following Threat...</td>\n",
       "      <td>No comment is expected from Barack Obama Membe...</td>\n",
       "      <td>1</td>\n",
       "      <td>130</td>\n",
       "      <td>5049</td>\n",
       "      <td>46</td>\n",
       "      <td>161</td>\n",
       "    </tr>\n",
       "    <tr>\n",
       "      <th>2</th>\n",
       "      <td>0</td>\n",
       "      <td>UNBELIEVABLE! OBAMA’S ATTORNEY GENERAL SAYS MO...</td>\n",
       "      <td>Now, most of the demonstrators gathered last ...</td>\n",
       "      <td>1</td>\n",
       "      <td>137</td>\n",
       "      <td>216</td>\n",
       "      <td>91</td>\n",
       "      <td>5</td>\n",
       "    </tr>\n",
       "    <tr>\n",
       "      <th>3</th>\n",
       "      <td>0</td>\n",
       "      <td>Bobby Jindal, raised Hindu, uses story of Chri...</td>\n",
       "      <td>A dozen politically active pastors came here f...</td>\n",
       "      <td>0</td>\n",
       "      <td>105</td>\n",
       "      <td>8010</td>\n",
       "      <td>4</td>\n",
       "      <td>246</td>\n",
       "    </tr>\n",
       "    <tr>\n",
       "      <th>4</th>\n",
       "      <td>0</td>\n",
       "      <td>SATAN 2: Russia unvelis an image of its terrif...</td>\n",
       "      <td>The RS-28 Sarmat missile, dubbed Satan 2, will...</td>\n",
       "      <td>1</td>\n",
       "      <td>95</td>\n",
       "      <td>1916</td>\n",
       "      <td>16</td>\n",
       "      <td>123</td>\n",
       "    </tr>\n",
       "    <tr>\n",
       "      <th>5</th>\n",
       "      <td>0</td>\n",
       "      <td>About Time! Christian Group Sues Amazon and SP...</td>\n",
       "      <td>All we can say on this one is it s about time ...</td>\n",
       "      <td>1</td>\n",
       "      <td>78</td>\n",
       "      <td>1530</td>\n",
       "      <td>13</td>\n",
       "      <td>97</td>\n",
       "    </tr>\n",
       "    <tr>\n",
       "      <th>...</th>\n",
       "      <td>...</td>\n",
       "      <td>...</td>\n",
       "      <td>...</td>\n",
       "      <td>...</td>\n",
       "      <td>...</td>\n",
       "      <td>...</td>\n",
       "      <td>...</td>\n",
       "      <td>...</td>\n",
       "    </tr>\n",
       "    <tr>\n",
       "      <th>72128</th>\n",
       "      <td>0</td>\n",
       "      <td>JUDGE JEANINE SOUNDS FREE SPEECH ALARM: “They ...</td>\n",
       "      <td>Judge Jeanine lets it rip! She s concerned wit...</td>\n",
       "      <td>1</td>\n",
       "      <td>105</td>\n",
       "      <td>5226</td>\n",
       "      <td>36</td>\n",
       "      <td>268</td>\n",
       "    </tr>\n",
       "    <tr>\n",
       "      <th>72129</th>\n",
       "      <td>0</td>\n",
       "      <td>Russians steal research on Trump in hack of U....</td>\n",
       "      <td>WASHINGTON (Reuters) - Hackers believed to be ...</td>\n",
       "      <td>0</td>\n",
       "      <td>65</td>\n",
       "      <td>4788</td>\n",
       "      <td>6</td>\n",
       "      <td>182</td>\n",
       "    </tr>\n",
       "    <tr>\n",
       "      <th>72130</th>\n",
       "      <td>0</td>\n",
       "      <td>WATCH: Giuliani Demands That Democrats Apolog...</td>\n",
       "      <td>You know, because in fantasyland Republicans n...</td>\n",
       "      <td>1</td>\n",
       "      <td>79</td>\n",
       "      <td>3634</td>\n",
       "      <td>14</td>\n",
       "      <td>120</td>\n",
       "    </tr>\n",
       "    <tr>\n",
       "      <th>72131</th>\n",
       "      <td>0</td>\n",
       "      <td>Migrants Refuse To Leave Train At Refugee Camp...</td>\n",
       "      <td>Migrants Refuse To Leave Train At Refugee Camp...</td>\n",
       "      <td>0</td>\n",
       "      <td>57</td>\n",
       "      <td>2864</td>\n",
       "      <td>10</td>\n",
       "      <td>105</td>\n",
       "    </tr>\n",
       "    <tr>\n",
       "      <th>72132</th>\n",
       "      <td>1</td>\n",
       "      <td>Trump tussle gives unpopular Mexican leader mu...</td>\n",
       "      <td>MEXICO CITY (Reuters) - Donald Trump’s combati...</td>\n",
       "      <td>0</td>\n",
       "      <td>67</td>\n",
       "      <td>3374</td>\n",
       "      <td>2</td>\n",
       "      <td>125</td>\n",
       "    </tr>\n",
       "  </tbody>\n",
       "</table>\n",
       "<p>66789 rows × 8 columns</p>\n",
       "</div>"
      ],
      "text/plain": [
       "       llama_label                                              title  \\\n",
       "0                0  LAW ENFORCEMENT ON HIGH ALERT Following Threat...   \n",
       "2                0  UNBELIEVABLE! OBAMA’S ATTORNEY GENERAL SAYS MO...   \n",
       "3                0  Bobby Jindal, raised Hindu, uses story of Chri...   \n",
       "4                0  SATAN 2: Russia unvelis an image of its terrif...   \n",
       "5                0  About Time! Christian Group Sues Amazon and SP...   \n",
       "...            ...                                                ...   \n",
       "72128            0  JUDGE JEANINE SOUNDS FREE SPEECH ALARM: “They ...   \n",
       "72129            0  Russians steal research on Trump in hack of U....   \n",
       "72130            0   WATCH: Giuliani Demands That Democrats Apolog...   \n",
       "72131            0  Migrants Refuse To Leave Train At Refugee Camp...   \n",
       "72132            1  Trump tussle gives unpopular Mexican leader mu...   \n",
       "\n",
       "                                                    text label  title_len  \\\n",
       "0      No comment is expected from Barack Obama Membe...     1        130   \n",
       "2       Now, most of the demonstrators gathered last ...     1        137   \n",
       "3      A dozen politically active pastors came here f...     0        105   \n",
       "4      The RS-28 Sarmat missile, dubbed Satan 2, will...     1         95   \n",
       "5      All we can say on this one is it s about time ...     1         78   \n",
       "...                                                  ...   ...        ...   \n",
       "72128  Judge Jeanine lets it rip! She s concerned wit...     1        105   \n",
       "72129  WASHINGTON (Reuters) - Hackers believed to be ...     0         65   \n",
       "72130  You know, because in fantasyland Republicans n...     1         79   \n",
       "72131  Migrants Refuse To Leave Train At Refugee Camp...     0         57   \n",
       "72132  MEXICO CITY (Reuters) - Donald Trump’s combati...     0         67   \n",
       "\n",
       "       text_len  uppercase_title_len  uppercase_text_len  \n",
       "0          5049                   46                 161  \n",
       "2           216                   91                   5  \n",
       "3          8010                    4                 246  \n",
       "4          1916                   16                 123  \n",
       "5          1530                   13                  97  \n",
       "...         ...                  ...                 ...  \n",
       "72128      5226                   36                 268  \n",
       "72129      4788                    6                 182  \n",
       "72130      3634                   14                 120  \n",
       "72131      2864                   10                 105  \n",
       "72132      3374                    2                 125  \n",
       "\n",
       "[66789 rows x 8 columns]"
      ]
     },
     "execution_count": 23,
     "metadata": {},
     "output_type": "execute_result"
    }
   ],
   "source": [
    "comparison_time = llamamama.join(with_len, how=\"inner\")\n",
    "comparison_time[\"llama_label\"] = comparison_time[\"llama_label\"].str.lower().str.strip().apply(lambda x: x == 'true').astype(np.int64)\n",
    "comparison_time"
   ]
  },
  {
   "cell_type": "markdown",
   "metadata": {},
   "source": [
    "Actual accuracy is 41.6415876865951% as calculated in the following cell"
   ]
  },
  {
   "cell_type": "code",
   "execution_count": 24,
   "metadata": {},
   "outputs": [
    {
     "data": {
      "text/plain": [
       "0.416415876865951"
      ]
     },
     "execution_count": 24,
     "metadata": {},
     "output_type": "execute_result"
    }
   ],
   "source": [
    "(comparison_time[\"llama_label\"] == comparison_time[\"label\"]).sum() / comparison_time.shape[0]"
   ]
  },
  {
   "cell_type": "markdown",
   "metadata": {},
   "source": [
    "Here is a confusion matrix for the model"
   ]
  },
  {
   "cell_type": "code",
   "execution_count": 31,
   "metadata": {},
   "outputs": [
    {
     "name": "stdout",
     "output_type": "stream",
     "text": [
      "       Confusion Matrix\n",
      "       True       False\n",
      "      -----------------\n",
      "True  | 550   | 5281  |\n",
      "      |-------|-------|\n",
      "False | 33696 | 27262 |\n",
      "      -----------------\n",
      "\n",
      "Precision for true values: 0.09432344366317956\n",
      "Precision for false values: 0.4472259588569179\n",
      "Recall for true values: 0.016060269812532852\n",
      "Recall for false values: 0.8377223980579541\n",
      "F1 Score for true values: 0.027447164208897874\n",
      "F1 Score for false values: 0.5831381482550988\n"
     ]
    }
   ],
   "source": [
    "true_positive = 0\n",
    "true_negative = 0\n",
    "false_positive = 0\n",
    "false_negative = 0\n",
    "predicted = comparison_time[\"llama_label\"].to_list()\n",
    "actual = comparison_time[\"label\"].to_list()\n",
    "for i, label in enumerate(predicted):\n",
    "    if label == actual[i] and label == True:\n",
    "        true_positive += 1\n",
    "    if label == actual[i] and label == False:\n",
    "        true_negative += 1\n",
    "    if label != actual[i] and label == True:\n",
    "        false_positive += 1\n",
    "    if label != actual[i] and label == False:\n",
    "        false_negative += 1\n",
    "\n",
    "print(\"       Confusion Matrix\")\n",
    "print(\"       True       False\")\n",
    "print(\"      -----------------\")\n",
    "print(f\"True  | {true_positive}   | {false_positive}  |\")\n",
    "print(\"      |-------|-------|\")\n",
    "print(f\"False | {false_negative} | {true_negative} |\")\n",
    "print(\"      -----------------\\n\")\n",
    "\n",
    "true_precision = true_positive / (true_positive + false_positive)\n",
    "false_precision = true_negative / (true_negative + false_negative)\n",
    "true_recall = true_positive / (true_positive + false_negative)\n",
    "false_recall = true_negative / (true_negative + false_positive)\n",
    "print(\"Precision for true values:\", true_precision)\n",
    "print(\"Precision for false values:\", false_precision)\n",
    "print(\"Recall for true values:\", true_recall)\n",
    "print(\"Recall for false values:\", false_recall)\n",
    "print(\"F1 Score for true values:\", 2*true_precision*true_recall/(true_recall + true_precision))\n",
    "print(\"F1 Score for false values:\", 2*false_precision*false_recall/(false_recall + false_precision))\n"
   ]
  },
  {
   "cell_type": "markdown",
   "metadata": {},
   "source": [
    "As stated before, the model primarily chose false and with low accuracy. In fact, the model had more incorrect more often when it chose false than correct. "
   ]
  },
  {
   "cell_type": "markdown",
   "metadata": {},
   "source": [
    "#### __Precision:__ 0.09 for True and 0.45 for False\n",
    "Llama was extremely imprecise.\n",
    "\n",
    "#### __Recall:__ 0.02 for True and 0.84 for False\n",
    "Llama had poor recall for true values but relatively good recall for False values.\n",
    "\n",
    "#### __F1 Score:__ 0.03 for True and 0.58 for False\n",
    "The F1 Score proves that Llama made an extremely poor prediction model."
   ]
  }
 ],
 "metadata": {
  "kernelspec": {
   "display_name": "Python 3",
   "language": "python",
   "name": "python3"
  },
  "language_info": {
   "codemirror_mode": {
    "name": "ipython",
    "version": 3
   },
   "file_extension": ".py",
   "mimetype": "text/x-python",
   "name": "python",
   "nbconvert_exporter": "python",
   "pygments_lexer": "ipython3",
   "version": "3.10.12"
  }
 },
 "nbformat": 4,
 "nbformat_minor": 2
}
