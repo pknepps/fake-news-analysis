{
 "cells": [
  {
   "cell_type": "markdown",
   "metadata": {},
   "source": [
    "# ***Fake News Analysis***\n",
    "\n",
    "### MATH475 Final Project\n",
    "\n",
    "Authors:\n",
    "- Preston Knepper\n",
    "- Zachary Eanes\n",
    "- Kevin McCall\n",
    "\n",
    "__Link to Dataset:__ https://www.kaggle.com/datasets/saurabhshahane/fake-news-classification\n",
    "\n",
    "This was completed with minimal AI assistance.\n",
    "\n",
    "## ***Part I: Data Exploration and Preprocessing***\n",
    "Due: 11/24/2024\n"
   ]
  },
  {
   "cell_type": "markdown",
   "metadata": {},
   "source": [
    "## **Exploratory Data Analysis**\n",
    "\n",
    "In this section of the assignment, we begin by exploring our fake news dataset. This includes many parts, such as removing unnecessary columns, checking for missing values, visualizing the data, and attempting to find general trends and correlations in our data.\n",
    "\n",
    "First, we begin by looking at the basic information our dataset contains. "
   ]
  },
  {
   "cell_type": "code",
   "execution_count": 1,
   "metadata": {},
   "outputs": [],
   "source": [
    "# import necessary libraries\n",
    "import pandas as pd\n",
    "import numpy as np\n",
    "import seaborn as sns\n",
    "import matplotlib.pyplot as plt\n",
    "\n",
    "# save the dataset into a variable\n",
    "df = pd.read_csv(\"WELFake_Dataset.csv\")"
   ]
  },
  {
   "cell_type": "code",
   "execution_count": 2,
   "metadata": {},
   "outputs": [
    {
     "name": "stdout",
     "output_type": "stream",
     "text": [
      "==== HEAD ====\n",
      "    Unnamed: 0                                              title  \\\n",
      "0           0  LAW ENFORCEMENT ON HIGH ALERT Following Threat...   \n",
      "1           1                                                NaN   \n",
      "2           2  UNBELIEVABLE! OBAMA’S ATTORNEY GENERAL SAYS MO...   \n",
      "3           3  Bobby Jindal, raised Hindu, uses story of Chri...   \n",
      "4           4  SATAN 2: Russia unvelis an image of its terrif...   \n",
      "5           5  About Time! Christian Group Sues Amazon and SP...   \n",
      "6           6  DR BEN CARSON TARGETED BY THE IRS: “I never ha...   \n",
      "7           7  HOUSE INTEL CHAIR On Trump-Russia Fake Story: ...   \n",
      "8           8  Sports Bar Owner Bans NFL Games…Will Show Only...   \n",
      "9           9  Latest Pipeline Leak Underscores Dangers Of Da...   \n",
      "\n",
      "                                                text  label  \n",
      "0  No comment is expected from Barack Obama Membe...      1  \n",
      "1     Did they post their votes for Hillary already?      1  \n",
      "2   Now, most of the demonstrators gathered last ...      1  \n",
      "3  A dozen politically active pastors came here f...      0  \n",
      "4  The RS-28 Sarmat missile, dubbed Satan 2, will...      1  \n",
      "5  All we can say on this one is it s about time ...      1  \n",
      "6  DR. BEN CARSON TELLS THE STORY OF WHAT HAPPENE...      1  \n",
      "7                                                         1  \n",
      "8  The owner of the Ringling Bar, located south o...      1  \n",
      "9  FILE – In this Sept. 15, 2005 file photo, the ...      1   \n",
      "\n",
      "==== SAMPLE ====\n",
      "        Unnamed: 0                                              title  \\\n",
      "13782       13782  Donald J. Trump is Now President of the United...   \n",
      "22245       22245  Bodies of ambushed travelers found in eastern ...   \n",
      "49647       49647  BOEHNER ANNOUNCES HIS FINAL ACT OF COWARDICE A...   \n",
      "37957       37957   China Fires Warning At Trump For Contacting T...   \n",
      "67448       67448  Tillerson to visit Pakistan as well as India: ...   \n",
      "24606       24606  First Take: Wall Street bids goodbye to June hike   \n",
      "44934       44934                         First Contact Film Trailer   \n",
      "10510       10510  Why You Should Stop Apologizing for Doing All ...   \n",
      "28177       28177  Why Mitch McConnell bid to extend Patriot Act ...   \n",
      "68513       68513  Trump met Stanford's John Taylor in Fed chair ...   \n",
      "\n",
      "                                                    text  label  \n",
      "13782  Go ahead. Count the survivors. \\nThe US Presid...      1  \n",
      "22245  GOMA, Democratic Republic of Congo (Reuters) -...      0  \n",
      "49647  In his final act of putting Americans dead las...      1  \n",
      "37957  Donald Trump has not even taken office yet and...      1  \n",
      "67448  WASHINGTON (Reuters) - U.S. Secretary of State...      0  \n",
      "24606  NEW YORK -- Bye bye June rate hike. That was t...      0  \n",
      "44934  Posted by Madeline | Oct 29, 2016 | 2016 , Dai...      1  \n",
      "10510  Why You Should Stop Apologizing for Doing All ...      1  \n",
      "28177  Senate majority leader Mitch McConnell thought...      0  \n",
      "68513  WASHINGTON (Reuters) - President Donald Trump ...      0   \n",
      "\n",
      "<class 'pandas.core.frame.DataFrame'>\n",
      "RangeIndex: 72134 entries, 0 to 72133\n",
      "Data columns (total 4 columns):\n",
      " #   Column      Non-Null Count  Dtype \n",
      "---  ------      --------------  ----- \n",
      " 0   Unnamed: 0  72134 non-null  int64 \n",
      " 1   title       71576 non-null  object\n",
      " 2   text        72095 non-null  object\n",
      " 3   label       72134 non-null  int64 \n",
      "dtypes: int64(2), object(2)\n",
      "memory usage: 2.2+ MB\n",
      "None\n"
     ]
    }
   ],
   "source": [
    "# display initial information about the dataset\n",
    "print(\"==== HEAD ====\\n\", df.head(10), \"\\n\")\n",
    "print(\"==== SAMPLE ====\\n\", df.sample(10), \"\\n\")\n",
    "print(df.info())"
   ]
  },
  {
   "cell_type": "markdown",
   "metadata": {},
   "source": [
    "\n",
    "### ***Handling missing data***\n",
    "\n",
    "Since we've observed less than 100 missing titles and less than 100 missing texts, we will remove them from the dataset. We do this because the missing data is a small percentage of the total data and we can still perform analysis on the remaining data. Along with this, handling the missing data would've been tedious.\n",
    "\n",
    "Similarly, we drop the first column, which is just an index column. This won't be useful for our analysis."
   ]
  },
  {
   "cell_type": "code",
   "execution_count": 3,
   "metadata": {},
   "outputs": [
    {
     "name": "stdout",
     "output_type": "stream",
     "text": [
      "<class 'pandas.core.frame.DataFrame'>\n",
      "Index: 71537 entries, 0 to 72133\n",
      "Data columns (total 3 columns):\n",
      " #   Column  Non-Null Count  Dtype \n",
      "---  ------  --------------  ----- \n",
      " 0   title   71537 non-null  object\n",
      " 1   text    71537 non-null  object\n",
      " 2   label   71537 non-null  int64 \n",
      "dtypes: int64(1), object(2)\n",
      "memory usage: 2.2+ MB\n",
      "None\n"
     ]
    }
   ],
   "source": [
    "# remove missing values since we have so few\n",
    "df = df.dropna()\n",
    "\n",
    "# remove the 'Unnamed: 0' column\n",
    "df = df.drop(columns=['Unnamed: 0'])\n",
    "\n",
    "print(df.info())"
   ]
  },
  {
   "cell_type": "code",
   "execution_count": 4,
   "metadata": {},
   "outputs": [],
   "source": [
    "# change the label to category, 0 or 1\n",
    "df['label'] = df['label'].astype('category')"
   ]
  },
  {
   "cell_type": "markdown",
   "metadata": {},
   "source": [
    "### ***Column Analysis***\n",
    "Our dataset had 4 columns with 71,537 entries (after removal). The columns are id, title, text, and label. We interpret and use the columns as follows:\n",
    "\n",
    "- **ID:** will not be used.\n",
    "- **Title:** is the title of the news article.\n",
    "- **Text:** the body text of the news article.\n",
    "- **Label:** is 1 if the article is true and 0 if the article is false.\n",
    "\n",
    "We will be looking into the distribution of title and text lengths as well as the distributions of real vs fake articles."
   ]
  },
  {
   "cell_type": "code",
   "execution_count": 5,
   "metadata": {},
   "outputs": [
    {
     "data": {
      "text/plain": [
       "label\n",
       "1    36509\n",
       "0    35028\n",
       "Name: count, dtype: int64"
      ]
     },
     "execution_count": 5,
     "metadata": {},
     "output_type": "execute_result"
    }
   ],
   "source": [
    "# count our label values\n",
    "df[\"label\"].value_counts()"
   ]
  },
  {
   "cell_type": "markdown",
   "metadata": {},
   "source": [
    "Handily, we have roughly equal counts of fake new and real new articles."
   ]
  },
  {
   "cell_type": "code",
   "execution_count": 6,
   "metadata": {},
   "outputs": [],
   "source": [
    "# make a new column which is the length of title and text \n",
    "with_len = df.copy()\n",
    "with_len[\"title_len\"] = with_len[\"title\"].apply(len)\n",
    "with_len[\"text_len\"] = with_len[\"text\"].apply(len)\n",
    "with_len.head()\n",
    "\n",
    "def count_uppercase(text):\n",
    "    \"\"\" \n",
    "    Counts the number of uppercase characters in a text.\n",
    "\n",
    "    Args:\n",
    "        text (str): The text to count uppercase characters in.\n",
    "    \"\"\"\n",
    "    count = 0\n",
    "    for char in text:\n",
    "        if char.isalpha() and char.upper() == char:\n",
    "            count += 1\n",
    "    return count\n",
    "\n",
    "# apply the function to the title and text columns\n",
    "with_len[\"uppercase_title_len\"] = with_len[\"title\"].apply(count_uppercase)\n",
    "with_len[\"uppercase_text_len\"] = with_len[\"text\"].apply(count_uppercase)"
   ]
  },
  {
   "cell_type": "markdown",
   "metadata": {},
   "source": [
    "## ***Visualizations***\n",
    "\n",
    "Next we will be visualizing the distribution of all of our columns, as well as comparing them to label. This is aims to see if there's a relation between the columns shares some form of relation with the label."
   ]
  },
  {
   "cell_type": "code",
   "execution_count": 7,
   "metadata": {},
   "outputs": [
    {
     "data": {
      "image/png": "[encoded data removed]",
      "text/plain": [
       "<Figure size 640x480 with 1 Axes>"
      ]
     },
     "metadata": {},
     "output_type": "display_data"
    },
    {
     "data": {
      "image/png": "[encoded data removed]",
      "text/plain": [
       "<Figure size 640x480 with 1 Axes>"
      ]
     },
     "metadata": {},
     "output_type": "display_data"
    },
    {
     "data": {
      "image/png": "[encoded data removed]",
      "text/plain": [
       "<Figure size 511.111x500 with 1 Axes>"
      ]
     },
     "metadata": {},
     "output_type": "display_data"
    },
    {
     "data": {
      "image/png": "[encoded data removed]",
      "text/plain": [
       "<Figure size 640x480 with 1 Axes>"
      ]
     },
     "metadata": {},
     "output_type": "display_data"
    },
    {
     "data": {
      "image/png": "[encoded data removed]",
      "text/plain": [
       "<Figure size 511.111x500 with 1 Axes>"
      ]
     },
     "metadata": {},
     "output_type": "display_data"
    },
    {
     "data": {
      "image/png": "[encoded data removed]",
      "text/plain": [
       "<Figure size 640x480 with 1 Axes>"
      ]
     },
     "metadata": {},
     "output_type": "display_data"
    },
    {
     "data": {
      "image/png": "[encoded data removed]",
      "text/plain": [
       "<Figure size 511.111x500 with 1 Axes>"
      ]
     },
     "metadata": {},
     "output_type": "display_data"
    },
    {
     "data": {
      "image/png": "[encoded data removed]",
      "text/plain": [
       "<Figure size 640x480 with 1 Axes>"
      ]
     },
     "metadata": {},
     "output_type": "display_data"
    },
    {
     "data": {
      "image/png": "[encoded data removed]",
      "text/plain": [
       "<Figure size 511.111x500 with 1 Axes>"
      ]
     },
     "metadata": {},
     "output_type": "display_data"
    }
   ],
   "source": [
    "def make_plots():\n",
    "    \"\"\" \n",
    "    Plot various columns in our dataset.\n",
    "    \"\"\"\n",
    "    # make plots of the distribution of the new columns, and how they compare to our label\n",
    "    for name in [\"label\", \"title_len\", \"text_len\", \"uppercase_title_len\", \"uppercase_text_len\"]:\n",
    "        # make histogram to see distribution of column\n",
    "        sns.histplot(with_len[name])\n",
    "        plt.title(f\"Distribution of {name}\")\n",
    "        plt.show()\n",
    "\n",
    "        # only make a plot vs. label IF it's not the label column itself\n",
    "        if name != \"label\":\n",
    "            # make a boxplot to see how the column compares to the label\n",
    "            sns.catplot(data=with_len, x=name, y=\"label\", kind=\"box\")\n",
    "            plt.title(f\"{name} vs label\")\n",
    "            plt.show()\n",
    "\n",
    "make_plots()"
   ]
  },
  {
   "cell_type": "markdown",
   "metadata": {},
   "source": [
    "Next we look into outliers in our dataset."
   ]
  },
  {
   "cell_type": "code",
   "execution_count": 8,
   "metadata": {},
   "outputs": [],
   "source": [
    "# get the indices of rows where the text length is greater than 60,000\n",
    "too_long = with_len[with_len[\"text_len\"] > 60000].index\n",
    "\n",
    "# drop the rows with those indices\n",
    "df.drop(too_long, inplace=True)\n",
    "with_len.drop(too_long, inplace=True)"
   ]
  },
  {
   "cell_type": "markdown",
   "metadata": {},
   "source": [
    "Since we cannot visually tell a correlation between length and fakeness and since there are 19 major outliers with > 60000 text_len, we will drop these articles.  "
   ]
  },
  {
   "cell_type": "code",
   "execution_count": null,
   "metadata": {},
   "outputs": [],
   "source": [
    "# make plots again to see if there's a major difference\n",
    "make_plots()"
   ]
  },
  {
   "cell_type": "markdown",
   "metadata": {},
   "source": [
    "Below was commented out because it takes a lot of time to compile when I needed to run the entire notebook."
   ]
  },
  {
   "cell_type": "code",
   "execution_count": null,
   "metadata": {},
   "outputs": [],
   "source": [
    "# from sklearn.feature_extraction.text import CountVectorizer\n",
    "# import seaborn as sns\n",
    "\n",
    "# # convert titles into a Bag of Words matrix\n",
    "# vectorizer = CountVectorizer()\n",
    "# bow_matrix = vectorizer.fit_transform(df['title']).toarray()\n",
    "\n",
    "# # create a DataFrame of BoW with labels\n",
    "# bow_df = pd.DataFrame(bow_matrix, columns=vectorizer.get_feature_names_out())\n",
    "# bow_df['label'] = df['label']\n",
    "\n",
    "# # compute mean occurrence for True/False labels\n",
    "# heatmap_data = bow_df.groupby('label').mean().T  # Transpose for words on rows\n",
    "\n",
    "# # plot it \n",
    "# sns.heatmap(heatmap_data, annot=True, cmap=\"coolwarm\", cbar=True)\n",
    "# plt.title(\"Heatmap of Words vs Labels\")\n",
    "# plt.xlabel(\"Label\")\n",
    "# plt.ylabel(\"Word\")\n",
    "# plt.show()"
   ]
  },
  {
   "cell_type": "markdown",
   "metadata": {},
   "source": [
    "### ***Initial Observations to Plots***\n",
    "\n",
    "Initially looking at these plots, the largest relation we identify is that uppercase_title_len seems to have a higher length for real news articles. We believe that this may be due to the fact that real news articles may have more formal titles, thus leading to an overall increase in the amount of capital letters used in the title. This could be names, towns and cities, or other proper nouns that are capitalized in the title.\n",
    "\n",
    "Overall, looking at the heatmap we're not able to really get any kind of information from it. Although, Zach spent a decent amount of time getting this to work, so we decided to leave it in. \n",
    "\n",
    "Similarly, there's seems to be a similar relationship with title_len being longer for a real news articles. We believe this may be due to the fact that real news articles have more formal titles. A real news articles may require a more descriptive title to accurately describe the content of the article."
   ]
  },
  {
   "cell_type": "code",
   "execution_count": null,
   "metadata": {},
   "outputs": [],
   "source": [
    "# search titles and highlight words that correlate to true or false\n",
    "def search(search_term, label, print_results=False):\n",
    "    \"\"\" \n",
    "    Search titles for a search term and highlight words that correlate to true or false.\n",
    "\n",
    "    Args:\n",
    "        search_term (str): The term to search for.\n",
    "        label (str): The label to search for.\n",
    "        print_results (bool): Whether to print the results.\n",
    "    \"\"\"\n",
    "    # get the indices of rows where the title contains the search term\n",
    "    search_results = df[df[\"title\"].str.contains(search_term, case=False)].index\n",
    "\n",
    "    # get the indices of rows where the label matches the label we're looking for\n",
    "    label_results = df[df[\"label\"] == label].index\n",
    "\n",
    "    # get the intersection of the two sets of indices\n",
    "    common_indices = search_results.intersection(label_results)\n",
    "    # # print the titles of the rows with those indices\n",
    "    # if print_results:\n",
    "    #     for index in common_indices:\n",
    "    #         print(df.loc[index, \"title\"])\n",
    "\n",
    "    # print length of common indices\n",
    "    print(f'How many common terms we found for {search_term} being {label}: {len(common_indices)}\\n')\n",
    "\n",
    "# search for Trump in labels\n",
    "search(\"Trump\", 1)\n",
    "search(\"Trump\", 0)\n",
    "\n",
    "# search for Biden in labels\n",
    "search(\"Biden\", 1)\n",
    "search(\"Biden\", 0)\n",
    "\n",
    "# search for Fascist in labels\n",
    "search(\"Fascist\", 1)\n",
    "search(\"Fascist\", 0)"
   ]
  },
  {
   "cell_type": "markdown",
   "metadata": {},
   "source": [
    "### ***Function to search titles for certain terms***\n",
    "\n",
    "We created the search_terms function which searches our text files to see if a certain word is present. This function can be used to see if there's certain terms that are more likely to be present in true or fake news articles. \n",
    "\n",
    "Zach and Preston just had the idea to create this function, as he thought it's an interesting concept. Usability of it may be limited, but it's cool to see if there's any terms that are more likely to be present in fake news articles."
   ]
  },
  {
   "cell_type": "code",
   "execution_count": null,
   "metadata": {},
   "outputs": [],
   "source": [
    "# list of common terms to ignore searching for\n",
    "ignore = [\n",
    "    'of', 'the', 'The', 'a', 'is', 'in', 'to', 'and', 'on', 'for', 'by', \n",
    "    'with', 'as', 'from', 'at', 'this', 'an', 'or', 'it', 'that', 'was',\n",
    "    'be', 'not', 'are', 'while', 'for', 'after', 'over', 'up', 'down', 's',\n",
    "    'he', 'have', 'his', 'her', 'they', 'their', 'we', 'our', 'us', 'you',\n",
    "    'has', 'had', 'will', 'would', 'should', 'could', 'can', 'do', 'did',\n",
    "    '”', '—', '[Video]', '(Video)', '[VIDEO]', '(VIDEO)', '–', '-'\n",
    "]\n",
    "\n",
    "\n",
    "def count_terms(label, column):\n",
    "    \"\"\" \n",
    "    Counts common terms in the corresponding label.\n",
    "\n",
    "    Args:\n",
    "        label (str): true or false label to search\n",
    "    \"\"\"\n",
    "    # get the indices of rows where the label matches the label we're looking for\n",
    "    label_results = df[df[\"label\"] == label].index\n",
    "\n",
    "    # get the text of the rows with those indices\n",
    "    text = df.loc[label_results, column]\n",
    "\n",
    "    # join the text into one big string\n",
    "    text = \" \".join(text)\n",
    "\n",
    "    # split the text into words\n",
    "    words = text.split()\n",
    "\n",
    "    # count the frequency of each word\n",
    "    word_counts = pd.Series(words).value_counts()\n",
    "\n",
    "    # remove common terms from the word counts\n",
    "    word_counts = word_counts.drop(ignore, errors='ignore')\n",
    "\n",
    "    # print the 20 most common words\n",
    "    print(f'Top 20 most common words in {label} {column}: \\n{word_counts.head(20)}\\n\\n')\n",
    "\n",
    "# count common terms in true/false text\n",
    "count_terms(1, \"text\")\n",
    "count_terms(0, \"text\")\n",
    "\n",
    "# count common terms in true/false title\n",
    "count_terms(1, \"title\")\n",
    "count_terms(0, \"title\")"
   ]
  },
  {
   "cell_type": "markdown",
   "metadata": {},
   "source": [
    "### ***Function to count common words***\n",
    "\n",
    "Similarly to the last section of checking specified words, Zach also was curious about seeing what the most common words were across all articles. This could be useful for future analysis, as we could see if there's any words that are more likely to be present in fake news articles. We aren't able to find any explicitly noticeable trends, but again it's an interesting idea to see if there's any words that are more likely to be present in fake news articles.\n",
    "\n",
    "This may be useful again in future analysis, as we can see exact words which tend to be more common."
   ]
  },
  {
   "cell_type": "code",
   "execution_count": null,
   "metadata": {},
   "outputs": [],
   "source": [
    "from spellchecker import SpellChecker\n",
    "def num_typo(label) -> bool:\n",
    "    \"\"\"\n",
    "    counts the number of typos in true or false titles.\n",
    "    \n",
    "    Args:\n",
    "        label (str): true or false label to search\n",
    "    \n",
    "    Returns:\n",
    "        bool: True if the title contains a typo, False otherwise.\n",
    "    \"\"\"\n",
    "    spell = SpellChecker()\n",
    "\n",
    "    # get the indices of rows where the label matches the label we're looking for\n",
    "    label_results = df[df[\"label\"] == label].index\n",
    "\n",
    "    # get the text of the rows with those indices\n",
    "    text = df.loc[label_results, \"title\"]\n",
    "\n",
    "    # split words by a space\n",
    "    words = \" \".join(text).split()\n",
    "\n",
    "    # find misspelled words\n",
    "    misspelled = spell.unknown(words)\n",
    "\n",
    "    # print amount of misspelled words\n",
    "    print(f'Number of misspelled words in {label}: {len(misspelled)}\\n')\n",
    "\n",
    "# check if the title contains a typo\n",
    "num_typo(1)\n",
    "num_typo(0)"
   ]
  },
  {
   "cell_type": "markdown",
   "metadata": {},
   "source": [
    "### ***Function to Count Typos***\n",
    "\n",
    "Zach had the idea to create a function which counted typos or misspellings in the titles for the articles, assuming that false titles may contain more typos. Oddly enough, we found that real news articles had more typos in their titles. This could be due to the fact that real news articles may have more formal titles, which may lead to more typos. Names, places, or proper nouns may be more present and leading to this oddity. "
   ]
  },
  {
   "cell_type": "markdown",
   "metadata": {},
   "source": [
    "# ***Feature Selection and Model Training***\n",
    "\n",
    "Due: 12/1/2024\n",
    "\n",
    "Authors:\n",
    "- Preston Knepper\n",
    "- Zachary Eanes\n",
    "- Kevin McCall\n",
    "\n",
    "In this section of the assignment, we will be selecting features and training models to predict whether an article is fake or real. We will be engineering new features, similar to the text_len and title_len we used earlier, and then training our model to predict. \n",
    "\n",
    "---\n",
    "\n",
    "We first train on just title, as when we tried to do both title and test we continually ran into memory issues and the kernel crashing."
   ]
  },
  {
   "cell_type": "code",
   "execution_count": null,
   "metadata": {},
   "outputs": [],
   "source": [
    "# import necessary libraries\n",
    "from sklearn.model_selection import train_test_split\n",
    "from sklearn.feature_extraction.text import TfidfVectorizer\n",
    "from sklearn.linear_model import LogisticRegression\n",
    "from sklearn.metrics import classification_report\n",
    "import numpy as np\n",
    "\n",
    "# predict the label based on title\n",
    "X = with_len[['title']]\n",
    "Y = with_len['label']\n",
    "\n",
    "# split the data into training and testing sets\n",
    "X_train, X_test, y_train, y_test = train_test_split(X, Y, test_size=0.2, random_state=42)\n",
    "\n",
    "# convert titles into a Bag of Words matrix\n",
    "vectorizer = TfidfVectorizer()\n",
    "X_train_title = vectorizer.fit_transform(X_train['title']).toarray()\n",
    "X_test_title = vectorizer.transform(X_test['title']).toarray()\n",
    "\n",
    "# create a logistic regression model\n",
    "model = LogisticRegression(max_iter=1000)\n",
    "\n",
    "# fit the model to the training data\n",
    "model.fit(X_train_title, y_train)\n",
    "\n",
    "# make predictions\n",
    "y_pred = model.predict(X_test_title)\n",
    "\n",
    "# get statistics\n",
    "print(classification_report(y_test, y_pred))\n"
   ]
  },
  {
   "cell_type": "code",
   "execution_count": null,
   "metadata": {},
   "outputs": [],
   "source": [
    "# confusion matrix from sklearn\n",
    "from sklearn.metrics import confusion_matrix    \n",
    "\n",
    "# create confusion matrix\n",
    "cm = confusion_matrix(y_test, y_pred)\n",
    "\n",
    "# plot confusion matrix\n",
    "sns.heatmap(cm, annot=True, cmap=\"coolwarm\", cbar=True, fmt='d')\n",
    "plt.title(\"Confusion Matrix\")\n",
    "plt.xlabel(\"Predicted\")\n",
    "plt.ylabel(\"Actual\")\n",
    "\n",
    "# Set custom tick labels\n",
    "plt.xticks(ticks=[0.5, 1.5], labels=['False', 'True'])\n",
    "plt.yticks(ticks=[0.5, 1.5], labels=['False', 'True'])\n",
    "\n",
    "plt.show()\n"
   ]
  },
  {
   "cell_type": "markdown",
   "metadata": {},
   "source": [
    "## ***Explaining our Choices***\n",
    "\n",
    "### __Why Logistic Regression?__ \n",
    "\n",
    "We decided to use Logistic Regressions as our model because it's a simple model that can be used for binary classification. We also used the Logistic Regression model because it's easy to interpret and can be used to predict the probability of an article being fake or real. Overall Logistic Regression proved to be efficient for our uses and was able to create categorical predictions based on independent variables, such as title or the lengths we use later.\n",
    "\n",
    "### __Bag of Words, Vectorizer, and TF-IDF?__\n",
    "\n",
    "__Bag of Words__ is a common tool used to extract numerical data about text data, which is then used for machine learning models. What this does is it takes text and converts it into a matrix which counts the occurrences of words in the text.\n",
    "\n",
    "__TF-IDF stands for Term Frequency-Inverse Document Frequency__, which differs as it gives higher weights to words that occur __less__ frequently. This can be more beneficial for this case, since the titles will contain a lot of common terms (and, of, the), so we specifically want more weight given to unique terms in our titles and text. This is why we chose specifically TF-IDF over a general Bag of Words. \n",
    "\n",
    "Along with this, TF-IDF is considered a variation of Bag of Words that is generally better for text data. \n",
    "\n",
    "---\n",
    "\n",
    "## ***Interpreting our Results***\n",
    "\n",
    "### ***We break down each of the results as follows:***\n",
    "\n",
    "#### __Confusion Matrix__: 6778 True Positives, 675 False Positives, 6279 True Negatives, 572 False Negatives\n",
    "\n",
    "This is a handy visualization of how our model performed. Overall, we're able to observe it did very well, with getting over 13,000 correct predictions and only 1247 incorrect predictions. This is a very good sign for our model.\n",
    "\n",
    "#### __Precision__: 0.90 for true, 0.92 for false\n",
    "\n",
    "Precision measures the accuracy of positive predictions. It's the ratio of true positives (correctly predicted positives) to the sum of true positives and false positives (incorrectly predicted positives). In this case, our model has a precision of 0.90 for true and 0.92 for false. This means that our model is able to accurately predict whether an article is fake or real.\n",
    "\n",
    "#### __Recall__: 0.92 for true, 0.90 for false\n",
    "\n",
    "Recall measures the ability of the model to find all the relevant cases within a dataset. It's the ratio of true positives to the sum of true positives and false negatives (missed positives). In this case, our model has a recall of 0.92 for true and 0.90 for false. This means that our model is able to accurately predict whether an article is fake or real.\n",
    "\n",
    "#### __F1 Score__: 0.91 for true, 0.91 for false\n",
    "\n",
    "F1 score gives us a weighted average of the precision and recall, which can give us a balanced understanding of both of the metrics. In this case, our model has an F1 score of 0.91 for true and 0.91 for false. This means that our model is able to accurately predict whether an article is fake or real.\n",
    "\n",
    "---\n",
    "\n",
    "Overall, we can see that our model is able to accurately predict whether an article is fake or real. This is due to the fact that our model has a high precision, recall, and F1 score for both true and false articles. \n",
    "\n",
    "## __Other approaches similar to the one above:__"
   ]
  },
  {
   "cell_type": "code",
   "execution_count": null,
   "metadata": {},
   "outputs": [],
   "source": [
    "# # Define predictors and target\n",
    "# X = with_len[['text']]\n",
    "# Y = with_len['label']\n",
    "\n",
    "# # Split the data\n",
    "# X_train, X_test, y_train, y_test = train_test_split(X, Y, test_size=0.2, random_state=42)\n",
    "\n",
    "# # TF-IDF vectorization for text features\n",
    "# vectorizer = TfidfVectorizer()\n",
    "\n",
    "# X_train_text = vectorizer.fit_transform(X_train['text']).toarray()\n",
    "# X_test_text = vectorizer.transform(X_test['text']).toarray()\n",
    "\n",
    "# # Logistic regression model\n",
    "# model = LogisticRegression(max_iter=1000)\n",
    "# model.fit(X_train_text, y_train)\n",
    "\n",
    "# # Make predictions\n",
    "# y_pred = model.predict(X_test_text)\n",
    "\n",
    "# # Evaluate performance\n",
    "# print(classification_report(y_test, y_pred))"
   ]
  },
  {
   "cell_type": "markdown",
   "metadata": {},
   "source": [
    "Whenever we try to run it with text, we run into memory issues so unfortunately we're unable to run it and see if it would perform better than just using the title. This is probably due to the text being a field with a large amount of characters, which would require a lot of memory to process and just seems unrealistic to run on our local machines. We decided to leave it though as it's a good idea to test against title, we just aren't able to process it.\n",
    "\n",
    "---\n",
    "\n",
    "### Now we're gonna try training with only the parameters we engineered."
   ]
  },
  {
   "cell_type": "code",
   "execution_count": null,
   "metadata": {},
   "outputs": [],
   "source": [
    "# predict the label based on title_len, text_len, uppercase_title_len, uppercase_text_len\n",
    "X = with_len[['title_len', 'text_len', 'uppercase_title_len', 'uppercase_text_len']]\n",
    "Y = with_len['label']\n",
    "\n",
    "# split the data into training and testing sets\n",
    "X_train, X_test, y_train, y_test = train_test_split(X, Y, test_size=0.2, random_state=42)\n",
    "\n",
    "# create a logistic regression model\n",
    "model = LogisticRegression(max_iter=1000)\n",
    "\n",
    "# fit the model to the training data\n",
    "model.fit(X_train, y_train)\n",
    "\n",
    "# make predictions\n",
    "y_pred = model.predict(X_test)\n",
    "\n",
    "# get statistics\n",
    "print(classification_report(y_test, y_pred))"
   ]
  },
  {
   "cell_type": "code",
   "execution_count": null,
   "metadata": {},
   "outputs": [],
   "source": [
    "# confusion matrix from sklearn\n",
    "from sklearn.metrics import confusion_matrix    \n",
    "\n",
    "# create confusion matrix\n",
    "cm = confusion_matrix(y_test, y_pred)\n",
    "\n",
    "# plot confusion matrix\n",
    "sns.heatmap(cm, annot=True, cmap=\"coolwarm\", cbar=True, fmt='d')\n",
    "plt.title(\"Confusion Matrix\")\n",
    "plt.xlabel(\"Predicted\")\n",
    "plt.ylabel(\"Actual\")\n",
    "\n",
    "# Set custom tick labels\n",
    "plt.xticks(ticks=[0.5, 1.5], labels=['False', 'True'])\n",
    "plt.yticks(ticks=[0.5, 1.5], labels=['False', 'True'])\n",
    "\n",
    "plt.show()"
   ]
  },
  {
   "cell_type": "markdown",
   "metadata": {},
   "source": [
    "## ***Interpreting our Results***\n",
    "\n",
    "This model has almost double the amount of false positives and negatives as\n",
    "compared to the other models. However, considering this model uses no text data\n",
    "to determine this result, this is very impressive.\n",
    "\n",
    "Across the board, the accuracy, precision, recall, and f1 score has decreased\n",
    "around 10%. This means that the model is using the classification data in the\n",
    "inverse document frequency is helping to make more accurate predictions\n",
    "\n",
    "#### __Confusion Matrix__: 5807 True Positives, 1147 False Positives, 5655 True Negatives, 1695 False Negatives\n",
    "\n",
    "#### __Precision__: 0.83 for true, 0.77 for false\n",
    "\n",
    "Precision measures the accuracy of positive predictions. It's the ratio of true positives (correctly predicted positives) to the sum of true positives and false positives (incorrectly predicted positives). With a precision of 0.83 of true and 0.77 for false, this means that our model is fairly precise in predicting whether an article is fake or real.\n",
    "\n",
    "#### __Recall__: 0.77 for true, 0.84 for false\n",
    "\n",
    "Recall measures the ability of the model to find all the relevant cases within a dataset. It's the ratio of true positives to the sum of true positives and false negatives (missed positives). With a recall of 0.77 for true and 0.84 for false, this means that our model is able to accurately predict whether an article is fake or real.\n",
    "\n",
    "#### __F1 Score__: 0.80 for true, 0.80 for false\n",
    "\n",
    "F1 score gives us a weighted average of the precision and recall, which can give us a balanced understanding of both of the metrics. With an F1 score of 0.80 for true and 0.80 for false, this means that our model has a good balance between the precision and recall.\n",
    "\n",
    "#### __Accuracy__: 0.80\n",
    "\n",
    "Overall our accuracy is 0.80, meaning that our model based on purely numerical and engineer features is shockingly efficient. This is a good model in general, and leads us to believe we made good features that were able to explain and describe our dataset well."
   ]
  },
  {
   "cell_type": "markdown",
   "metadata": {},
   "source": [
    "### __NOTE:__ The next block can take a while to run, in Zach's 2020 MacBook Air (M1 chip, 8gb ram) it took almost 2 hours. "
   ]
  },
  {
   "cell_type": "code",
   "execution_count": null,
   "metadata": {},
   "outputs": [],
   "source": [
    "# combination of title and our engineered features \n",
    "X = with_len[['title', 'title_len', 'text_len', 'uppercase_title_len', 'uppercase_text_len']]\n",
    "Y = with_len['label']\n",
    "\n",
    "# split the data into training and testing sets\n",
    "X_train, X_test, y_train, y_test = train_test_split(X, Y, test_size=0.2, random_state=42)\n",
    "\n",
    "# convert titles into a Bag of Words matrix\n",
    "vectorizer = TfidfVectorizer()\n",
    "X_train_title = vectorizer.fit_transform(X_train['title']).toarray()\n",
    "X_test_title = vectorizer.transform(X_test['title']).toarray()\n",
    "\n",
    "# combine the BoW matrix with the other features\n",
    "X_train = np.concatenate([X_train_title, X_train.drop(columns=['title'])], axis=1)\n",
    "X_test = np.concatenate([X_test_title, X_test.drop(columns=['title'])], axis=1)\n",
    "\n",
    "# create a logistic regression model\n",
    "model = LogisticRegression(max_iter=1000)\n",
    "\n",
    "# fit the model to the training data\n",
    "model.fit(X_train, y_train)\n",
    "\n",
    "# make predictions\n",
    "y_pred = model.predict(X_test)\n",
    "\n",
    "# get statistics\n",
    "print(classification_report(y_test, y_pred))"
   ]
  },
  {
   "cell_type": "code",
   "execution_count": null,
   "metadata": {},
   "outputs": [],
   "source": [
    "# create confusion matrix\n",
    "cm = confusion_matrix(y_test, y_pred)\n",
    "\n",
    "# plot confusion matrix\n",
    "sns.heatmap(cm, annot=True, cmap=\"coolwarm\", cbar=True, fmt='d')\n",
    "plt.title(\"Confusion Matrix\")\n",
    "plt.xlabel(\"Predicted\")\n",
    "plt.ylabel(\"Actual\")\n",
    "\n",
    "# Set custom tick labels\n",
    "plt.xticks(ticks=[0.5, 1.5], labels=['False', 'True'])\n",
    "plt.yticks(ticks=[0.5, 1.5], labels=['False', 'True'])\n",
    "\n",
    "plt.show()"
   ]
  },
  {
   "cell_type": "markdown",
   "metadata": {},
   "source": [
    "### ***We break down each of the results as follows:***\n",
    "\n",
    "#### __Confusion Matrix__: 6745 True Positives, 375 False Positives, 6579 True Negatives, 605 False Negatives\n",
    "\n",
    "This is a handy visualization of how our model performed. Overall, we're able to observe it did very well, with getting over 13,000 correct predictions and only 1080 incorrect predictions. This is a very good sign for our model, and the results that follow are even more of a support to a strong model.\n",
    "\n",
    "#### __Precision__: 0.95 for true, 0.92 for false\n",
    "\n",
    "Precision measures the accuracy of positive predictions. It's the ratio of true positives (correctly predicted positives) to the sum of true positives and false positives (incorrectly predicted positives). In this case, our model has a precision of 0.95 for true and 0.92 for false. Our model is extremely precise in predicting whether an article is fake or real.\n",
    "\n",
    "#### __Recall__: 0.92 for true, 0.95 for false\n",
    "\n",
    "Recall measures the ability of the model to find all the relevant cases within a dataset. It's the ratio of true positives to the sum of true positives and false negatives (missed positives). In this case, our model has a recall of 0.92 for true and 0.95 for false. This means that our model has an extremely strong recall.\n",
    "\n",
    "#### __F1 Score__: 0.93 for true, 0.93 for false\n",
    "\n",
    "F1 score gives us a weighted average of the precision and recall, which can give us a balanced understanding of both of the metrics. In this case, our model has an F1 score of 0.93 for true and 0.93 for false. This means that our model has an excellent balance between the precision and recall.\n",
    "\n",
    "This is our __most accurate__ model yet by a decent margin, and it's a comfortable mix of our engineered features and the titles. This is an incredible result for our model, and we're thrilled with the results."
   ]
  },
  {
   "cell_type": "markdown",
   "metadata": {},
   "source": [
    "## ***LLM Approach*** "
   ]
  },
  {
   "cell_type": "markdown",
   "metadata": {},
   "source": [
    "We will now try to use a pre-trained, textual AI model to see if it produces accurate results. \n",
    "\n",
    "For this, we will be using Llama3.2 due to the fact that it is a free model. We will do this through the ollama library which uses llama_cpp found at https://github.com/ggerganov/llama.cpp. Due to the power and time required for the operation, the predictions were performed by writing to an external file.\n",
    "\n",
    "You can also download Llama from https://ollama.com/ and run `ollama pull llama3.2`."
   ]
  },
  {
   "cell_type": "code",
   "execution_count": null,
   "metadata": {},
   "outputs": [],
   "source": [
    "from ollama import chat\n",
    "from ollama import ChatResponse\n",
    "import pandas as pd\n",
    "from typing import Mapping, Sequence\n",
    "\n",
    "prompt = \"\"\"\n",
    "You are a binary fact-checking AI specifically designed to classify news articles as True or False based on factual accuracy. \n",
    "\n",
    "Rules:\n",
    "1. Respond ONLY with \"True\" or \"False\"\n",
    "2. Do not explain, elaborate, or add any additional text\n",
    "3. Evaluate the entire article (title and body text) for factual veracity\n",
    "4. Consider multiple credibility factors:\n",
    "  - Source reliability\n",
    "  - Cross-referenced information\n",
    "  - Verifiable claims\n",
    "  - Potential misinformation markers\n",
    "5. Base your determination on whether the core claims in the article are factually supported\n",
    "6. If multiple claims exist, determine overall article truthfulness\n",
    "7. Err on the side of skepticism when evidence is ambiguous\n",
    "\n",
    "Focus solely on factual accuracy, not opinion or interpretation. Your goal is to\n",
    "identify whether the article presents true or false information.\n",
    "\n",
    "TITLE: {}\n",
    "\n",
    "TEXT: {}\n",
    "\"\"\"\n",
    "# df = pd.read_csv(\"WELFake_Dataset.csv\")\n",
    "titles: list[str] = df[\"title\"].to_list()\n",
    "texts: list[str] = df[\"text\"].to_list()\n",
    "length = len(titles)"
   ]
  },
  {
   "cell_type": "markdown",
   "metadata": {},
   "source": [
    "The following cell took 4 hours to run on RTX 3070, Ryzen 7 5800. Additionally,\n",
    "it was segmented into multiple runs because of optimizations that needed to be\n",
    "made. It is commented out so it is not accidentally ran"
   ]
  },
  {
   "cell_type": "code",
   "execution_count": null,
   "metadata": {},
   "outputs": [],
   "source": [
    "# START = 26324\n",
    "\n",
    "# with open(\"pred.csv\", \"a\", encoding=\"utf-8\") as file:\n",
    "#   # file.write(\"id, label\\n\")\n",
    "#   for i in range(START, length):\n",
    "#     if len(str(texts[i])) > 7573:\n",
    "#       continue\n",
    "#     response: ChatResponse = chat(model='llama3.2', messages=[\n",
    "#       {\n",
    "#         'role': 'user',\n",
    "#         'content': prompt.format(titles[i], texts[i])\n",
    "#       }\n",
    "#     ])\n",
    "#     if response[\"message\"][\"content\"].lower().strip() not in [\"true\", \"false\"]:\n",
    "#       print(f\"skipping {i}\")\n",
    "#       continue\n",
    "      \n",
    "#     print(f'{i}/{length}', end=\"\\n\")\n",
    "#     file.write(f'{i}, {response[\"message\"][\"content\"]}\\n')"
   ]
  },
  {
   "cell_type": "markdown",
   "metadata": {},
   "source": [
    "Here I saved the output and tried to find a pattern between what causes some to\n",
    "compute fast and other to not. I concluded that text length was the biggest\n",
    "factor, as if the article's text is too long, the input would fall outside of a\n",
    "LLM's context window, and they won't read the instructions. Additionally,\n",
    "performing copies on texts with thousands of characters is expensive. "
   ]
  },
  {
   "cell_type": "code",
   "execution_count": null,
   "metadata": {},
   "outputs": [],
   "source": [
    "# with open(\"successes.txt\", \"r\", encoding='utf-8') as f:\n",
    "#     too_long = [int(line[9:].strip()) for line in f if line.startswith(\"skipping \")]"
   ]
  },
  {
   "cell_type": "markdown",
   "metadata": {},
   "source": [
    "I decided on 7573 as cutoff point, as when I plotted the texts that failed, it\n",
    "landed in the 10th percentile of text lengths. By removing these entries from\n",
    "our dataset, we lose 2719 fake news samples and 2387 real news samples. This\n",
    "could cause a bias.\n"
   ]
  },
  {
   "cell_type": "code",
   "execution_count": null,
   "metadata": {},
   "outputs": [],
   "source": [
    "with_len[with_len[\"text_len\"] > 7573.0].size"
   ]
  },
  {
   "cell_type": "code",
   "execution_count": null,
   "metadata": {},
   "outputs": [],
   "source": [
    "with_len.loc[with_len[\"text_len\"] > 7573.0, \"label\"].value_counts()"
   ]
  },
  {
   "cell_type": "markdown",
   "metadata": {},
   "source": [
    "Here is the data being loaded in from disk after completing the run. It is a new\n",
    "CSV that contains the article_id and the prediction that llama3.2 made."
   ]
  },
  {
   "cell_type": "code",
   "execution_count": null,
   "metadata": {},
   "outputs": [],
   "source": [
    "llamamama = pd.read_csv(\"pred.csv\", names=[\"daindex\", \"llama_label\"], header=0)\n",
    "llamamama.set_index(\"daindex\", inplace=True)"
   ]
  },
  {
   "cell_type": "code",
   "execution_count": null,
   "metadata": {},
   "outputs": [],
   "source": [
    "llamamama"
   ]
  },
  {
   "cell_type": "markdown",
   "metadata": {},
   "source": [
    "There is a huge discrepency of the data calculated by llama. It guessed that\n",
    "the news articles were fake 61549 of the time and real 5831 of the time."
   ]
  },
  {
   "cell_type": "code",
   "execution_count": null,
   "metadata": {},
   "outputs": [],
   "source": [
    "for column in llamamama.columns:\n",
    "    display(llamamama[column].value_counts().sort_values(ascending=False))"
   ]
  },
  {
   "cell_type": "markdown",
   "metadata": {},
   "source": [
    "Perform an inner join to compare the guesses to the real results"
   ]
  },
  {
   "cell_type": "code",
   "execution_count": null,
   "metadata": {},
   "outputs": [],
   "source": [
    "comparison_time = llamamama.join(with_len, how=\"inner\")\n",
    "comparison_time[\"llama_label\"] = comparison_time[\"llama_label\"].str.lower().str.strip().apply(lambda x: x == 'true').astype(np.int64)\n",
    "comparison_time"
   ]
  },
  {
   "cell_type": "markdown",
   "metadata": {},
   "source": [
    "Actual accuracy is __41.6415876865951%__ as calculated in the following cell"
   ]
  },
  {
   "cell_type": "code",
   "execution_count": null,
   "metadata": {},
   "outputs": [],
   "source": [
    "acc = (comparison_time[\"llama_label\"] == comparison_time[\"label\"]).sum() / comparison_time.shape[0]\n",
    "print(f\"Calculated Accuracy of using Llama: {acc}\")"
   ]
  },
  {
   "cell_type": "markdown",
   "metadata": {},
   "source": [
    "### Here is a confusion matrix for the model, as well as precision, recall, and F1:"
   ]
  },
  {
   "cell_type": "code",
   "execution_count": null,
   "metadata": {},
   "outputs": [],
   "source": [
    "# values used for summations\n",
    "true_positive = 0\n",
    "true_negative = 0\n",
    "false_positive = 0\n",
    "false_negative = 0\n",
    "\n",
    "# predicted values for the label\n",
    "predicted = comparison_time[\"llama_label\"].to_list()\n",
    "\n",
    "# actual values for the label\n",
    "actual = comparison_time[\"label\"].to_list()\n",
    "\n",
    "# sum our value for the confusion matrix\n",
    "for i, label in enumerate(predicted):\n",
    "    if label == actual[i] and label == True:\n",
    "        true_positive += 1\n",
    "    if label == actual[i] and label == False:\n",
    "        true_negative += 1\n",
    "    if label != actual[i] and label == True:\n",
    "        false_positive += 1\n",
    "    if label != actual[i] and label == False:\n",
    "        false_negative += 1\n",
    "\n",
    "print(\"       Confusion Matrix\")\n",
    "print(\"       True       False\")\n",
    "print(\"      -----------------\")\n",
    "print(f\"True  | {true_positive}   | {false_positive}  |\")\n",
    "print(\"      |-------|-------|\")\n",
    "print(f\"False | {false_negative} | {true_negative} |\")\n",
    "print(\"      -----------------\\n\")\n",
    "\n",
    "# calculate precision, recall, and F1 score\n",
    "true_precision = true_positive / (true_positive + false_positive)\n",
    "false_precision = true_negative / (true_negative + false_negative)\n",
    "true_recall = true_positive / (true_positive + false_negative)\n",
    "false_recall = true_negative / (true_negative + false_positive)\n",
    "\n",
    "print(\"Precision for true values:\", true_precision)\n",
    "print(\"Precision for false values:\", false_precision)\n",
    "print(\"Recall for true values:\", true_recall)\n",
    "print(\"Recall for false values:\", false_recall)\n",
    "print(\"F1 Score for true values:\", 2*true_precision*true_recall/(true_recall + true_precision))\n",
    "print(\"F1 Score for false values:\", 2*false_precision*false_recall/(false_recall + false_precision))\n"
   ]
  },
  {
   "cell_type": "markdown",
   "metadata": {},
   "source": [
    "##### As stated before, the model primarily chose false and with low accuracy. In fact, the model had more incorrect more often when it chose false than correct. Let's analyze the confusion matrix, precision, recall, and F1 score of the model:\n",
    "\n",
    "#### __Confusion Matrix:__ 550 True Positives, 5281 False Positive, 33696 False Negatives, 27262 True Negatives\n",
    "\n",
    "The confusion matrix reveals the poor nature behind the Llama model. Firstly, we only correctly predicted 27812 titles out of the entire dataset. Most of these positives also come due to the bias behind selecting False a lot more often than True. Along with this, we have a large number of False Negatives and False Positives. In general, this means that the model was not able to accurately predict whether an article was fake or real.\n",
    "\n",
    "#### __Precision:__ 0.09 for True and 0.45 for False\n",
    "\n",
    "Precision is a measure of the accuracy of the model's positive predictions. In this case, the precision of Llama was extremely imprecise. This means that the model was not able to accurately predict whether an article was fake or real.\n",
    "\n",
    "#### __Recall:__ 0.02 for True and 0.84 for False\n",
    "\n",
    "Recall is a measure of the model's ability to find all the relevant cases within a dataset. In this case, Llama had poor recall for true values but relatively good recall for False values. Oddly, we get a fairly high recall value for False, but this is likely due to the fact that the model primarily chose False.\n",
    "\n",
    "#### __F1 Score:__ 0.03 for True and 0.58 for False\n",
    "\n",
    "F1 Score is a weighted average of the precision and recall. In this case, the F1 Score proves that Llama made an extremely poor prediction model. It has a decent F1 value for False, but again this is due to the models bias towards False."
   ]
  },
  {
   "cell_type": "markdown",
   "metadata": {},
   "source": [
    "## ***DistilBERT Binary Classifier***"
   ]
  },
  {
   "cell_type": "markdown",
   "metadata": {},
   "source": [
    "We will implement a binary classifier to determine data is fake based on the\n",
    "title and article contnent. We will follow along with [this official hugging\n",
    "face\n",
    "resource](https://colab.research.google.com/github/peterbayerle/huggingface_notebook/blob/main/distilbert_tf.ipynb)\n",
    "to guide us, and try to match the scenario to our use case and improve the model."
   ]
  },
  {
   "cell_type": "code",
   "execution_count": 12,
   "metadata": {},
   "outputs": [
    {
     "name": "stdout",
     "output_type": "stream",
     "text": [
      "Requirement already satisfied: tensorflow in d:\\projects\\python\\fake-news-analysis\\env\\lib\\site-packages (2.18.0)\n",
      "Requirement already satisfied: transformers in d:\\projects\\python\\fake-news-analysis\\env\\lib\\site-packages (4.46.3)\n",
      "Requirement already satisfied: tensorflow-intel==2.18.0 in d:\\projects\\python\\fake-news-analysis\\env\\lib\\site-packages (from tensorflow) (2.18.0)\n",
      "Requirement already satisfied: flatbuffers>=24.3.25 in d:\\projects\\python\\fake-news-analysis\\env\\lib\\site-packages (from tensorflow-intel==2.18.0->tensorflow) (24.3.25)\n",
      "Requirement already satisfied: google-pasta>=0.1.1 in d:\\projects\\python\\fake-news-analysis\\env\\lib\\site-packages (from tensorflow-intel==2.18.0->tensorflow) (0.2.0)\n",
      "Requirement already satisfied: tensorboard<2.19,>=2.18 in d:\\projects\\python\\fake-news-analysis\\env\\lib\\site-packages (from tensorflow-intel==2.18.0->tensorflow) (2.18.0)\n",
      "Requirement already satisfied: h5py>=3.11.0 in d:\\projects\\python\\fake-news-analysis\\env\\lib\\site-packages (from tensorflow-intel==2.18.0->tensorflow) (3.12.1)\n",
      "Requirement already satisfied: typing-extensions>=3.6.6 in d:\\projects\\python\\fake-news-analysis\\env\\lib\\site-packages (from tensorflow-intel==2.18.0->tensorflow) (4.12.2)\n",
      "Requirement already satisfied: termcolor>=1.1.0 in d:\\projects\\python\\fake-news-analysis\\env\\lib\\site-packages (from tensorflow-intel==2.18.0->tensorflow) (2.5.0)\n",
      "Requirement already satisfied: gast!=0.5.0,!=0.5.1,!=0.5.2,>=0.2.1 in d:\\projects\\python\\fake-news-analysis\\env\\lib\\site-packages (from tensorflow-intel==2.18.0->tensorflow) (0.6.0)\n",
      "Requirement already satisfied: ml-dtypes<0.5.0,>=0.4.0 in d:\\projects\\python\\fake-news-analysis\\env\\lib\\site-packages (from tensorflow-intel==2.18.0->tensorflow) (0.4.1)\n",
      "Requirement already satisfied: keras>=3.5.0 in d:\\projects\\python\\fake-news-analysis\\env\\lib\\site-packages (from tensorflow-intel==2.18.0->tensorflow) (3.7.0)\n",
      "Requirement already satisfied: protobuf!=4.21.0,!=4.21.1,!=4.21.2,!=4.21.3,!=4.21.4,!=4.21.5,<6.0.0dev,>=3.20.3 in d:\\projects\\python\\fake-news-analysis\\env\\lib\\site-packages (from tensorflow-intel==2.18.0->tensorflow) (5.29.1)\n",
      "Requirement already satisfied: astunparse>=1.6.0 in d:\\projects\\python\\fake-news-analysis\\env\\lib\\site-packages (from tensorflow-intel==2.18.0->tensorflow) (1.6.3)\n",
      "Requirement already satisfied: tensorflow-io-gcs-filesystem>=0.23.1 in d:\\projects\\python\\fake-news-analysis\\env\\lib\\site-packages (from tensorflow-intel==2.18.0->tensorflow) (0.31.0)\n",
      "Requirement already satisfied: packaging in d:\\projects\\python\\fake-news-analysis\\env\\lib\\site-packages (from tensorflow-intel==2.18.0->tensorflow) (24.2)\n",
      "Requirement already satisfied: absl-py>=1.0.0 in d:\\projects\\python\\fake-news-analysis\\env\\lib\\site-packages (from tensorflow-intel==2.18.0->tensorflow) (2.1.0)\n",
      "Requirement already satisfied: numpy<2.1.0,>=1.26.0 in d:\\projects\\python\\fake-news-analysis\\env\\lib\\site-packages (from tensorflow-intel==2.18.0->tensorflow) (2.0.2)\n",
      "Requirement already satisfied: grpcio<2.0,>=1.24.3 in d:\\projects\\python\\fake-news-analysis\\env\\lib\\site-packages (from tensorflow-intel==2.18.0->tensorflow) (1.68.1)\n",
      "Requirement already satisfied: six>=1.12.0 in d:\\projects\\python\\fake-news-analysis\\env\\lib\\site-packages (from tensorflow-intel==2.18.0->tensorflow) (1.16.0)\n",
      "Requirement already satisfied: wrapt>=1.11.0 in d:\\projects\\python\\fake-news-analysis\\env\\lib\\site-packages (from tensorflow-intel==2.18.0->tensorflow) (1.17.0)\n",
      "Requirement already satisfied: setuptools in d:\\projects\\python\\fake-news-analysis\\env\\lib\\site-packages (from tensorflow-intel==2.18.0->tensorflow) (63.2.0)\n",
      "Requirement already satisfied: opt-einsum>=2.3.2 in d:\\projects\\python\\fake-news-analysis\\env\\lib\\site-packages (from tensorflow-intel==2.18.0->tensorflow) (3.4.0)\n",
      "Requirement already satisfied: libclang>=13.0.0 in d:\\projects\\python\\fake-news-analysis\\env\\lib\\site-packages (from tensorflow-intel==2.18.0->tensorflow) (18.1.1)\n",
      "Requirement already satisfied: requests<3,>=2.21.0 in d:\\projects\\python\\fake-news-analysis\\env\\lib\\site-packages (from tensorflow-intel==2.18.0->tensorflow) (2.32.3)\n",
      "Requirement already satisfied: pyyaml>=5.1 in d:\\projects\\python\\fake-news-analysis\\env\\lib\\site-packages (from transformers) (6.0.2)\n",
      "Requirement already satisfied: huggingface-hub<1.0,>=0.23.2 in d:\\projects\\python\\fake-news-analysis\\env\\lib\\site-packages (from transformers) (0.26.3)\n",
      "Requirement already satisfied: tqdm>=4.27 in d:\\projects\\python\\fake-news-analysis\\env\\lib\\site-packages (from transformers) (4.67.1)\n",
      "Requirement already satisfied: filelock in d:\\projects\\python\\fake-news-analysis\\env\\lib\\site-packages (from transformers) (3.16.1)\n",
      "Requirement already satisfied: regex!=2019.12.17 in d:\\projects\\python\\fake-news-analysis\\env\\lib\\site-packages (from transformers) (2024.11.6)\n",
      "Requirement already satisfied: tokenizers<0.21,>=0.20 in d:\\projects\\python\\fake-news-analysis\\env\\lib\\site-packages (from transformers) (0.20.3)\n",
      "Requirement already satisfied: safetensors>=0.4.1 in d:\\projects\\python\\fake-news-analysis\\env\\lib\\site-packages (from transformers) (0.4.5)\n",
      "Requirement already satisfied: fsspec>=2023.5.0 in d:\\projects\\python\\fake-news-analysis\\env\\lib\\site-packages (from huggingface-hub<1.0,>=0.23.2->transformers) (2024.10.0)\n",
      "Requirement already satisfied: idna<4,>=2.5 in d:\\projects\\python\\fake-news-analysis\\env\\lib\\site-packages (from requests<3,>=2.21.0->tensorflow-intel==2.18.0->tensorflow) (3.10)\n",
      "Requirement already satisfied: certifi>=2017.4.17 in d:\\projects\\python\\fake-news-analysis\\env\\lib\\site-packages (from requests<3,>=2.21.0->tensorflow-intel==2.18.0->tensorflow) (2024.8.30)\n",
      "Requirement already satisfied: urllib3<3,>=1.21.1 in d:\\projects\\python\\fake-news-analysis\\env\\lib\\site-packages (from requests<3,>=2.21.0->tensorflow-intel==2.18.0->tensorflow) (2.2.3)\n",
      "Requirement already satisfied: charset-normalizer<4,>=2 in d:\\projects\\python\\fake-news-analysis\\env\\lib\\site-packages (from requests<3,>=2.21.0->tensorflow-intel==2.18.0->tensorflow) (3.4.0)\n",
      "Requirement already satisfied: colorama in d:\\projects\\python\\fake-news-analysis\\env\\lib\\site-packages (from tqdm>=4.27->transformers) (0.4.6)\n",
      "Requirement already satisfied: wheel<1.0,>=0.23.0 in d:\\projects\\python\\fake-news-analysis\\env\\lib\\site-packages (from astunparse>=1.6.0->tensorflow-intel==2.18.0->tensorflow) (0.45.1)\n",
      "Requirement already satisfied: optree in d:\\projects\\python\\fake-news-analysis\\env\\lib\\site-packages (from keras>=3.5.0->tensorflow-intel==2.18.0->tensorflow) (0.13.1)\n",
      "Requirement already satisfied: namex in d:\\projects\\python\\fake-news-analysis\\env\\lib\\site-packages (from keras>=3.5.0->tensorflow-intel==2.18.0->tensorflow) (0.0.8)\n",
      "Requirement already satisfied: rich in d:\\projects\\python\\fake-news-analysis\\env\\lib\\site-packages (from keras>=3.5.0->tensorflow-intel==2.18.0->tensorflow) (13.9.4)\n",
      "Requirement already satisfied: tensorboard-data-server<0.8.0,>=0.7.0 in d:\\projects\\python\\fake-news-analysis\\env\\lib\\site-packages (from tensorboard<2.19,>=2.18->tensorflow-intel==2.18.0->tensorflow) (0.7.2)\n",
      "Requirement already satisfied: werkzeug>=1.0.1 in d:\\projects\\python\\fake-news-analysis\\env\\lib\\site-packages (from tensorboard<2.19,>=2.18->tensorflow-intel==2.18.0->tensorflow) (3.1.3)\n",
      "Requirement already satisfied: markdown>=2.6.8 in d:\\projects\\python\\fake-news-analysis\\env\\lib\\site-packages (from tensorboard<2.19,>=2.18->tensorflow-intel==2.18.0->tensorflow) (3.7)\n",
      "Requirement already satisfied: MarkupSafe>=2.1.1 in d:\\projects\\python\\fake-news-analysis\\env\\lib\\site-packages (from werkzeug>=1.0.1->tensorboard<2.19,>=2.18->tensorflow-intel==2.18.0->tensorflow) (3.0.2)\n",
      "Requirement already satisfied: markdown-it-py>=2.2.0 in d:\\projects\\python\\fake-news-analysis\\env\\lib\\site-packages (from rich->keras>=3.5.0->tensorflow-intel==2.18.0->tensorflow) (3.0.0)\n",
      "Requirement already satisfied: pygments<3.0.0,>=2.13.0 in d:\\projects\\python\\fake-news-analysis\\env\\lib\\site-packages (from rich->keras>=3.5.0->tensorflow-intel==2.18.0->tensorflow) (2.18.0)\n",
      "Requirement already satisfied: mdurl~=0.1 in d:\\projects\\python\\fake-news-analysis\\env\\lib\\site-packages (from markdown-it-py>=2.2.0->rich->keras>=3.5.0->tensorflow-intel==2.18.0->tensorflow) (0.1.2)\n",
      "Note: you may need to restart the kernel to use updated packages.\n"
     ]
    },
    {
     "name": "stderr",
     "output_type": "stream",
     "text": [
      "\n",
      "[notice] A new release of pip available: 22.2.1 -> 24.3.1\n",
      "[notice] To update, run: python.exe -m pip install --upgrade pip\n"
     ]
    },
    {
     "name": "stdout",
     "output_type": "stream",
     "text": [
      "Collecting tf-keras\n",
      "  Using cached tf_keras-2.18.0-py3-none-any.whl (1.7 MB)\n",
      "Requirement already satisfied: tensorflow<2.19,>=2.18 in d:\\projects\\python\\fake-news-analysis\\env\\lib\\site-packages (from tf-keras) (2.18.0)\n",
      "Requirement already satisfied: tensorflow-intel==2.18.0 in d:\\projects\\python\\fake-news-analysis\\env\\lib\\site-packages (from tensorflow<2.19,>=2.18->tf-keras) (2.18.0)\n",
      "Requirement already satisfied: gast!=0.5.0,!=0.5.1,!=0.5.2,>=0.2.1 in d:\\projects\\python\\fake-news-analysis\\env\\lib\\site-packages (from tensorflow-intel==2.18.0->tensorflow<2.19,>=2.18->tf-keras) (0.6.0)\n",
      "Requirement already satisfied: google-pasta>=0.1.1 in d:\\projects\\python\\fake-news-analysis\\env\\lib\\site-packages (from tensorflow-intel==2.18.0->tensorflow<2.19,>=2.18->tf-keras) (0.2.0)\n",
      "Requirement already satisfied: numpy<2.1.0,>=1.26.0 in d:\\projects\\python\\fake-news-analysis\\env\\lib\\site-packages (from tensorflow-intel==2.18.0->tensorflow<2.19,>=2.18->tf-keras) (2.0.2)\n",
      "Requirement already satisfied: typing-extensions>=3.6.6 in d:\\projects\\python\\fake-news-analysis\\env\\lib\\site-packages (from tensorflow-intel==2.18.0->tensorflow<2.19,>=2.18->tf-keras) (4.12.2)\n",
      "Requirement already satisfied: keras>=3.5.0 in d:\\projects\\python\\fake-news-analysis\\env\\lib\\site-packages (from tensorflow-intel==2.18.0->tensorflow<2.19,>=2.18->tf-keras) (3.7.0)\n",
      "Requirement already satisfied: grpcio<2.0,>=1.24.3 in d:\\projects\\python\\fake-news-analysis\\env\\lib\\site-packages (from tensorflow-intel==2.18.0->tensorflow<2.19,>=2.18->tf-keras) (1.68.1)\n",
      "Requirement already satisfied: tensorflow-io-gcs-filesystem>=0.23.1 in d:\\projects\\python\\fake-news-analysis\\env\\lib\\site-packages (from tensorflow-intel==2.18.0->tensorflow<2.19,>=2.18->tf-keras) (0.31.0)\n",
      "Requirement already satisfied: protobuf!=4.21.0,!=4.21.1,!=4.21.2,!=4.21.3,!=4.21.4,!=4.21.5,<6.0.0dev,>=3.20.3 in d:\\projects\\python\\fake-news-analysis\\env\\lib\\site-packages (from tensorflow-intel==2.18.0->tensorflow<2.19,>=2.18->tf-keras) (5.29.1)\n",
      "Requirement already satisfied: packaging in d:\\projects\\python\\fake-news-analysis\\env\\lib\\site-packages (from tensorflow-intel==2.18.0->tensorflow<2.19,>=2.18->tf-keras) (24.2)\n",
      "Requirement already satisfied: flatbuffers>=24.3.25 in d:\\projects\\python\\fake-news-analysis\\env\\lib\\site-packages (from tensorflow-intel==2.18.0->tensorflow<2.19,>=2.18->tf-keras) (24.3.25)\n",
      "Requirement already satisfied: six>=1.12.0 in d:\\projects\\python\\fake-news-analysis\\env\\lib\\site-packages (from tensorflow-intel==2.18.0->tensorflow<2.19,>=2.18->tf-keras) (1.16.0)\n",
      "Requirement already satisfied: h5py>=3.11.0 in d:\\projects\\python\\fake-news-analysis\\env\\lib\\site-packages (from tensorflow-intel==2.18.0->tensorflow<2.19,>=2.18->tf-keras) (3.12.1)\n",
      "Requirement already satisfied: requests<3,>=2.21.0 in d:\\projects\\python\\fake-news-analysis\\env\\lib\\site-packages (from tensorflow-intel==2.18.0->tensorflow<2.19,>=2.18->tf-keras) (2.32.3)\n",
      "Requirement already satisfied: libclang>=13.0.0 in d:\\projects\\python\\fake-news-analysis\\env\\lib\\site-packages (from tensorflow-intel==2.18.0->tensorflow<2.19,>=2.18->tf-keras) (18.1.1)\n",
      "Requirement already satisfied: wrapt>=1.11.0 in d:\\projects\\python\\fake-news-analysis\\env\\lib\\site-packages (from tensorflow-intel==2.18.0->tensorflow<2.19,>=2.18->tf-keras) (1.17.0)\n",
      "Requirement already satisfied: ml-dtypes<0.5.0,>=0.4.0 in d:\\projects\\python\\fake-news-analysis\\env\\lib\\site-packages (from tensorflow-intel==2.18.0->tensorflow<2.19,>=2.18->tf-keras) (0.4.1)\n",
      "Requirement already satisfied: tensorboard<2.19,>=2.18 in d:\\projects\\python\\fake-news-analysis\\env\\lib\\site-packages (from tensorflow-intel==2.18.0->tensorflow<2.19,>=2.18->tf-keras) (2.18.0)\n",
      "Requirement already satisfied: termcolor>=1.1.0 in d:\\projects\\python\\fake-news-analysis\\env\\lib\\site-packages (from tensorflow-intel==2.18.0->tensorflow<2.19,>=2.18->tf-keras) (2.5.0)\n",
      "Requirement already satisfied: opt-einsum>=2.3.2 in d:\\projects\\python\\fake-news-analysis\\env\\lib\\site-packages (from tensorflow-intel==2.18.0->tensorflow<2.19,>=2.18->tf-keras) (3.4.0)\n",
      "Requirement already satisfied: absl-py>=1.0.0 in d:\\projects\\python\\fake-news-analysis\\env\\lib\\site-packages (from tensorflow-intel==2.18.0->tensorflow<2.19,>=2.18->tf-keras) (2.1.0)\n",
      "Requirement already satisfied: astunparse>=1.6.0 in d:\\projects\\python\\fake-news-analysis\\env\\lib\\site-packages (from tensorflow-intel==2.18.0->tensorflow<2.19,>=2.18->tf-keras) (1.6.3)\n",
      "Requirement already satisfied: setuptools in d:\\projects\\python\\fake-news-analysis\\env\\lib\\site-packages (from tensorflow-intel==2.18.0->tensorflow<2.19,>=2.18->tf-keras) (63.2.0)\n",
      "Requirement already satisfied: wheel<1.0,>=0.23.0 in d:\\projects\\python\\fake-news-analysis\\env\\lib\\site-packages (from astunparse>=1.6.0->tensorflow-intel==2.18.0->tensorflow<2.19,>=2.18->tf-keras) (0.45.1)\n",
      "Requirement already satisfied: rich in d:\\projects\\python\\fake-news-analysis\\env\\lib\\site-packages (from keras>=3.5.0->tensorflow-intel==2.18.0->tensorflow<2.19,>=2.18->tf-keras) (13.9.4)\n",
      "Requirement already satisfied: namex in d:\\projects\\python\\fake-news-analysis\\env\\lib\\site-packages (from keras>=3.5.0->tensorflow-intel==2.18.0->tensorflow<2.19,>=2.18->tf-keras) (0.0.8)\n",
      "Requirement already satisfied: optree in d:\\projects\\python\\fake-news-analysis\\env\\lib\\site-packages (from keras>=3.5.0->tensorflow-intel==2.18.0->tensorflow<2.19,>=2.18->tf-keras) (0.13.1)\n",
      "Requirement already satisfied: idna<4,>=2.5 in d:\\projects\\python\\fake-news-analysis\\env\\lib\\site-packages (from requests<3,>=2.21.0->tensorflow-intel==2.18.0->tensorflow<2.19,>=2.18->tf-keras) (3.10)\n",
      "Requirement already satisfied: certifi>=2017.4.17 in d:\\projects\\python\\fake-news-analysis\\env\\lib\\site-packages (from requests<3,>=2.21.0->tensorflow-intel==2.18.0->tensorflow<2.19,>=2.18->tf-keras) (2024.8.30)\n",
      "Requirement already satisfied: urllib3<3,>=1.21.1 in d:\\projects\\python\\fake-news-analysis\\env\\lib\\site-packages (from requests<3,>=2.21.0->tensorflow-intel==2.18.0->tensorflow<2.19,>=2.18->tf-keras) (2.2.3)\n",
      "Requirement already satisfied: charset-normalizer<4,>=2 in d:\\projects\\python\\fake-news-analysis\\env\\lib\\site-packages (from requests<3,>=2.21.0->tensorflow-intel==2.18.0->tensorflow<2.19,>=2.18->tf-keras) (3.4.0)\n",
      "Requirement already satisfied: markdown>=2.6.8 in d:\\projects\\python\\fake-news-analysis\\env\\lib\\site-packages (from tensorboard<2.19,>=2.18->tensorflow-intel==2.18.0->tensorflow<2.19,>=2.18->tf-keras) (3.7)\n",
      "Requirement already satisfied: tensorboard-data-server<0.8.0,>=0.7.0 in d:\\projects\\python\\fake-news-analysis\\env\\lib\\site-packages (from tensorboard<2.19,>=2.18->tensorflow-intel==2.18.0->tensorflow<2.19,>=2.18->tf-keras) (0.7.2)\n",
      "Requirement already satisfied: werkzeug>=1.0.1 in d:\\projects\\python\\fake-news-analysis\\env\\lib\\site-packages (from tensorboard<2.19,>=2.18->tensorflow-intel==2.18.0->tensorflow<2.19,>=2.18->tf-keras) (3.1.3)\n",
      "Requirement already satisfied: MarkupSafe>=2.1.1 in d:\\projects\\python\\fake-news-analysis\\env\\lib\\site-packages (from werkzeug>=1.0.1->tensorboard<2.19,>=2.18->tensorflow-intel==2.18.0->tensorflow<2.19,>=2.18->tf-keras) (3.0.2)\n",
      "Requirement already satisfied: pygments<3.0.0,>=2.13.0 in d:\\projects\\python\\fake-news-analysis\\env\\lib\\site-packages (from rich->keras>=3.5.0->tensorflow-intel==2.18.0->tensorflow<2.19,>=2.18->tf-keras) (2.18.0)\n",
      "Requirement already satisfied: markdown-it-py>=2.2.0 in d:\\projects\\python\\fake-news-analysis\\env\\lib\\site-packages (from rich->keras>=3.5.0->tensorflow-intel==2.18.0->tensorflow<2.19,>=2.18->tf-keras) (3.0.0)\n",
      "Requirement already satisfied: mdurl~=0.1 in d:\\projects\\python\\fake-news-analysis\\env\\lib\\site-packages (from markdown-it-py>=2.2.0->rich->keras>=3.5.0->tensorflow-intel==2.18.0->tensorflow<2.19,>=2.18->tf-keras) (0.1.2)\n",
      "Installing collected packages: tf-keras\n",
      "Successfully installed tf-keras-2.18.0\n",
      "Note: you may need to restart the kernel to use updated packages.\n"
     ]
    },
    {
     "name": "stderr",
     "output_type": "stream",
     "text": [
      "\n",
      "[notice] A new release of pip available: 22.2.1 -> 24.3.1\n",
      "[notice] To update, run: python.exe -m pip install --upgrade pip\n"
     ]
    }
   ],
   "source": [
    "# install needed packages\n",
    "%pip install tensorflow transformers\n",
    "%pip install tf-keras"
   ]
  },
  {
   "cell_type": "code",
   "execution_count": 13,
   "metadata": {},
   "outputs": [
    {
     "name": "stdout",
     "output_type": "stream",
     "text": [
      "WARNING:tensorflow:From d:\\Projects\\Python\\fake-news-analysis\\env\\lib\\site-packages\\tf_keras\\src\\losses.py:2976: The name tf.losses.sparse_softmax_cross_entropy is deprecated. Please use tf.compat.v1.losses.sparse_softmax_cross_entropy instead.\n",
      "\n"
     ]
    }
   ],
   "source": [
    "# import necessary libraries\n",
    "import tensorflow as tf\n",
    "from tensorflow.keras import activations, optimizers, losses\n",
    "from transformers import DistilBertTokenizer, TFDistilBertForSequenceClassification\n",
    "import pickle"
   ]
  },
  {
   "cell_type": "markdown",
   "metadata": {},
   "source": [
    "The following cells train the model. You can skip ahead and load the pretrained\n",
    "model that is saved to disk (in model/fake_news_clf/).\n",
    "This can be used to test the model without retraining it each time. This is\n",
    "loaded using HuggingFace's 🤗Transformers library."
   ]
  },
  {
   "cell_type": "code",
   "execution_count": 26,
   "metadata": {},
   "outputs": [],
   "source": [
    "# load model and make dataset\n",
    "X = df[\"text\"]\n",
    "y = df[\"label\"]\n",
    "MODEL_PATH = \"./model/fake_news_clf\"\n",
    "MODEL_INFO_PATH = \"./model/info.pkl\""
   ]
  },
  {
   "cell_type": "markdown",
   "metadata": {},
   "source": [
    "We will have to truncate the text to fit within distilBERT's context window.\n",
    "Therefore, I want to take a look at the data that we are going to use. I will\n",
    "look at around the first 384 tokens assuming each word is 5 letters long."
   ]
  },
  {
   "cell_type": "code",
   "execution_count": 27,
   "metadata": {},
   "outputs": [
    {
     "name": "stdout",
     "output_type": "stream",
     "text": [
      "No comment is expected from Barack Obama Members of the #FYF911 or #FukYoFlag\n",
      "and #BlackLivesMatter movements called for the lynching and hanging of white\n",
      "people and cops. They encouraged others on a radio show Tuesday night to  turn\n",
      "the tide  and kill white people and cops to send a message about the killing of\n",
      "black people in America.One of the F***YoFlag organizers is called  Sunshine.\n",
      "She has a radio blog show hosted from Texas called,  Sunshine s F***ing Opinion\n",
      "Radio Show. A snapshot of her #FYF911 @LOLatWhiteFear Twitter page at 9:53 p.m.\n",
      "shows that she was urging supporters to  Call now!! #fyf911 tonight we continue\n",
      "to dismantle the illusion of white Below is a SNAPSHOT Twitter Radio Call Invite\n",
      "#FYF911The radio show aired at 10:00 p.m. eastern standard time.During the show,\n",
      "callers clearly call for  lynching  and  killing  of white people.A 2:39 minute\n",
      "clip from the radio show can be heard here. It was provided to Breitbart Texas\n",
      "by someone who would like to be referred to as  Hannibal.  He has already\n",
      "received death threats as a result of interrupting #FYF911 conference calls.An\n",
      "unidentified black man said  when those mother f**kers are by themselves, that s\n",
      "when when we should start f***ing them up. Like they do us, when a bunch of them\n",
      "ni**ers takin  one of us out, that s how we should roll up.  He said,  Cause we\n",
      "already roll up in gangs anyway. There should be six or seven black mother\n",
      "f**ckers, see that white person, and then lynch their ass. Let s turn the\n",
      "tables. They conspired that if  cops started losing people,  then  there will be\n",
      "a state of emergency. He speculated that one of two things would happen,  a big-\n",
      "ass [R s?????] war,  or  ni**ers, they are going to start backin  up. We are\n",
      "already getting killed out here so what the f**k we got to lose? Sunshine could\n",
      "be heard saying,  Yep, that s true. That s so f**king true. He said,  We need to\n",
      "turn the tables on thEND\n",
      "\n",
      "\n",
      " Now, most of the demonstrators gathered last night were exercising their\n",
      "constitutional and protected right to peaceful protest in order to raise issues\n",
      "and create change.    Loretta Lynch aka Eric Holder in a skirtEND\n",
      "\n",
      "\n",
      "A dozen politically active pastors came here for a private dinner Friday night\n",
      "to hear a conversion story unique in the context of presidential politics: how\n",
      "Louisiana Gov. Bobby Jindal traveled from Hinduism to Protestant Christianity\n",
      "and, ultimately, became what he calls an “evangelical Catholic.”  Over two\n",
      "hours, Jindal, 42, recalled talking with a girl in high school who wanted to\n",
      "“save my soul,” reading the Bible in a closet so his parents would not see him\n",
      "and feeling a stir while watching a movie during his senior year that depicted\n",
      "Jesus on the cross.  “I was struck, and struck hard,” Jindal told the pastors.\n",
      "“This was the Son of God, and He had died for our sins.”  Jindal’s session with\n",
      "the Christian clergy, who lead congregations in the early presidential\n",
      "battleground states of Iowa and South Carolina, was part of a behind-the-scenes\n",
      "effort by the Louisiana governor to find a political base that could help propel\n",
      "him into the top tier of Republican candidates seeking to run for the White\n",
      "House in 2016.  Known in GOP circles mostly for his mastery of policy issues\n",
      "such as health care, Jindal, a Rhodes Scholar and graduate of the Ivy League’s\n",
      "Brown University, does not have an obvious pool of activist supporters to help\n",
      "drive excitement outside his home state. So he is harnessing his religious\n",
      "experience in a way that has begun to appeal to parts of the GOP’s influential\n",
      "core of religious conservatives, many of whom have yet to find a favorite among\n",
      "the Republicans eyeing the presidential race.  Other potential 2016 GOP\n",
      "candidates are wooing the evangelical base, including Sens. Rand Paul (Ky.) and\n",
      "Ted Cruz (Tex.) and Indiana Gov. Mike Pence.  But over the weekend in Lynchburg\n",
      "— a mecca of sorts for evangelicals as the home of Liberty University, founded\n",
      "in the 1970s by the Rev. Jerry Falwell — Jindal appeared to make progress.  In\n",
      "addition to his dinner with the pastors, he deliEND\n",
      "\n",
      "\n",
      "The RS-28 Sarmat missile, dubbed Satan 2, will replace the SS-18 Flies at 4.3\n",
      "miles (7km) per sec and with a range of 6,213 miles (10,000km) The weapons are\n",
      "perceived as part of an increasingly aggressive Russia It could deliver a\n",
      "warhead of 40 megatons – 2,000 times as powerful as the atom bombs dropped on\n",
      "Hiroshima and Nagasaki in 1945 By LIBBY PLUMMER and GARETH DAVIE S Russia has\n",
      "unveiled chilling pictures of its largest ever nuclear missile, capable of\n",
      "destroying an area the size of France. The RS-28 Sarmat missile, dubbed Satan 2\n",
      "by Nato, has a top speed of 4.3 miles (7km) per second and has been designed to\n",
      "outfox anti-missile shield systems. The new Sarmat missile could deliver\n",
      "warheads of 40 megatons – 2,000 times as powerful as the atom bombs dropped on\n",
      "Hiroshima and Nagasaki in 1945. Scroll down for video Russian President Vladimir\n",
      "Putin is reportedly planning to replace the country’s older SS-18 Satan weapons\n",
      "with the new missiles amid a string of recent disagreements with the West. The\n",
      "Kremlin has stepped up the rhetoric against the West and carried a series of\n",
      "manoeuvres that has infuriated politicians in the US and UK. The pictures were\n",
      "revealed online by chief designers from the Makeyev Rocket Design Bureau. A\n",
      "message posted alongside the picture said: ‘In accordance with the Decree of the\n",
      "Russian Government ‘On the State Defense Order for 2010 and the planning period\n",
      "2012-2013’, the Makeyev Rocket Design Bureau was instructed to start design and\n",
      "development work on the Sarmat. ‘ The RS-28 Sarmat missile is said to contain 16\n",
      "nuclear warheads and is capable of destroying an area the size of France or\n",
      "Texas, according to Russian news network Zvezda, which is owned by Russia’s\n",
      "ministry of defence. The weapon is also able to evade radar. It is expected to\n",
      "have a range of 6,213 miles (10,000 km), which would allow Moscow to attack\n",
      "London and  FOR ENTIRE ARTICLE CLICK LINKEND\n",
      "\n",
      "\n",
      "All we can say on this one is it s about time someone sued the Southern Poverty\n",
      "Law Center!On Tuesday, D. James Kennedy Ministries (DJKM) filed a lawsuit\n",
      "against the Southern Poverty Law Center (SPLC), the charity navigation\n",
      "organization GuideStar, and Amazon, for defamation, religious discrimination,\n",
      "and trafficking in falsehood. The SPLC listed DJKM as a  hate group,  while\n",
      "GuideStar also categorized it in those terms, and Amazon kept the ministry off\n",
      "of its charity donation program, Amazon Smile. We embarked today on a journey to\n",
      "right a terrible wrong,  Dr. Frank Wright, president and CEO at DJKM, said in a\n",
      "statement Tuesday.  Those who knowingly label Christian ministries as  hate\n",
      "groups, solely for subscribing to the historic Christian faith, are either\n",
      "woefully uninformed or willfully deceitful. In the case of the Southern Poverty\n",
      "Law Center, our lawsuit alleges the latter. The SPLC has labeled DJKM an  anti-\n",
      "LGBT hate group  for its opposition to same-sex marriage and transgenderism.\n",
      "These false and illegal characterizations have a chilling effect on the free\n",
      "exercise of religion and on religious free speech for all people of faith,\n",
      "Wright declared. After having given the SPLC an opportunity to retract, we have\n",
      "undertaken this legal action, seeking a trial by a jury of our peers, to\n",
      "preserve our own rights under the law and to defend the religious free speech\n",
      "rights of all Americans,  the DJKM president concluded.The lawsuit laid out\n",
      "charges against the SPLC, GuideStar, and Amazon.Read more: PJMEND\n",
      "\n",
      "\n"
     ]
    }
   ],
   "source": [
    "import textwrap\n",
    "\n",
    "# wrap text to 80 chars for readability\n",
    "for article_text in df[\"text\"].apply(lambda x: x[:384 * 5])[:5]:\n",
    "    print('\\n'.join(textwrap.wrap(article_text, width=80)), end=\"END\\n\\n\\n\")"
   ]
  },
  {
   "cell_type": "code",
   "execution_count": 28,
   "metadata": {},
   "outputs": [
    {
     "name": "stdout",
     "output_type": "stream",
     "text": [
      "review: 'No comment is expected from Barack Obama Members of the #FYF911 or #FukYoFlag and #BlackLivesMatter movements called for the lynching and hanging of white people and cops. They encouraged others on a radio show Tuesday night to  turn the tide  and kill white people and cops to send a message about the killing of black people in America.One of the F***YoFlag organizers is called  Sunshine.  She has a radio blog show hosted from Texas called,  Sunshine s F***ing Opinion Radio Show. A snapshot of her #FYF911 @LOLatWhiteFear Twitter page at 9:53 p.m. shows that she was urging supporters to  Call now!! #fyf911 tonight we continue to dismantle the illusion of white Below is a SNAPSHOT Twitter Radio Call Invite   #FYF911The radio show aired at 10:00 p.m. eastern standard time.During the show, callers clearly call for  lynching  and  killing  of white people.A 2:39 minute clip from the radio show can be heard here. It was provided to Breitbart Texas by someone who would like to be referred to as  Hannibal.  He has already received death threats as a result of interrupting #FYF911 conference calls.An unidentified black man said  when those mother f**kers are by themselves, that s when when we should start f***ing them up. Like they do us, when a bunch of them ni**ers takin  one of us out, that s how we should roll up.  He said,  Cause we already roll up in gangs anyway. There should be six or seven black mother f**ckers, see that white person, and then lynch their ass. Let s turn the tables. They conspired that if  cops started losing people,  then  there will be a state of emergency. He speculated that one of two things would happen,  a big-ass [R s?????] war,  or  ni**ers, they are going to start backin  up. We are already getting killed out here so what the f**k we got to lose? Sunshine could be heard saying,  Yep, that s true. That s so f**king true. He said,  We need to turn the tables on them. Our kids are getting shot out here. Somebody needs to become a sacrifice on their side.He said,  Everybody ain t down for that s**t, or whatever, but like I say, everybody has a different position of war.  He continued,  Because they don t give a f**k anyway.  He said again,  We might as well utilized them for that s**t and turn the tables on these n**ers. He said, that way  we can start lookin  like we ain t havin  that many casualties, and there can be more causalities on their side instead of ours. They are out their killing black people, black lives don t matter, that s what those mother f**kers   so we got to make it matter to them. Find a mother f**ker that is alone. Snap his ass, and then f***in hang him from a damn tree. Take a picture of it and then send it to the mother f**kers. We  just need one example,  and  then people will start watchin .  This will turn the tables on s**t, he said. He said this will start  a trickle-down effect.  He said that when one white person is hung and then they are just  flat-hanging,  that will start the  trickle-down effect.  He continued,  Black people are good at starting trends. He said that was how  to get the upper-hand. Another black man spoke up saying they needed to kill  cops that are killing us. The first black male said,  That will be the best method right there. Breitbart Texas previously reported how Sunshine was upset when  racist white people  infiltrated and disrupted one of her conference calls. She subsequently released the phone number of one of the infiltrators. The veteran immediately started receiving threatening calls.One of the #F***YoFlag movement supporters allegedly told a veteran who infiltrated their publicly posted conference call,  We are going to rape and gut your pregnant wife, and your f***ing piece of sh*t unborn creature will be hung from a tree. Breitbart Texas previously encountered Sunshine at a Sandra Bland protest at the Waller County Jail in Texas, where she said all white people should be killed. She told journalists and photographers,  You see this nappy-ass hair on my head?   That means I am one of those more militant Negroes.  She said she was at the protest because  these redneck mother-f**kers murdered Sandra Bland because she had nappy hair like me. #FYF911 black radicals say they will be holding the  imperial powers  that are actually responsible for the terrorist attacks on September 11th accountable on that day, as reported by Breitbart Texas. There are several websites and Twitter handles for the movement. Palmetto Star  describes himself as one of the head organizers. He said in a YouTube video that supporters will be burning their symbols of  the illusion of their superiority,  their  false white supremacy,  like the American flag, the British flag, police uniforms, and Ku Klux Klan hoods.Sierra McGrone or  Nocturnus Libertus  posted,  you too can help a young Afrikan clean their a** with the rag of oppression.  She posted two photos, one that appears to be herself, and a photo of a black man, wiping their naked butts with the American flag.For entire story: Breitbart News'\n",
      "input ids: [101, 2053, 7615, 2003, 3517, 2013, 13857, 8112, 2372, 1997, 1996, 1001, 1042, 2100, 2546, 2683, 14526, 2030, 1001, 11865, 4801, 11253, 17802, 1998, 1001, 2304, 3669, 6961, 18900, 3334, 5750, 2170, 2005, 1996, 11404, 2075, 1998, 5689, 1997, 2317, 2111, 1998, 10558, 1012, 2027, 6628, 2500, 2006, 1037, 2557, 2265, 9857, 2305, 2000, 2735, 1996, 10401, 1998, 3102, 2317, 2111, 1998, 10558, 2000, 4604, 1037, 4471, 2055, 1996, 4288, 1997, 2304, 2111, 1999, 2637, 1012, 2028, 1997, 1996, 1042, 1008, 1008, 1008, 10930, 10258, 8490, 18829, 2003, 2170, 9609, 1012, 2016, 2038, 1037, 2557, 9927, 2265, 4354, 2013, 3146, 2170, 1010, 9609, 1055, 1042, 1008, 1008, 1008, 13749, 5448, 2557, 2265, 1012, 1037, 20057, 12326, 1997, 2014, 1001, 1042, 2100, 2546, 2683, 14526, 1030, 15137, 2102, 2860, 16584, 27235, 2906, 10474, 3931, 2012, 1023, 1024, 5187, 1052, 1012, 1049, 1012, 3065, 2008, 2016, 2001, 14328, 6793, 2000, 2655, 2085, 999, 999, 1001, 1042, 2100, 2546, 2683, 14526, 3892, 2057, 3613, 2000, 4487, 11512, 9286, 1996, 12492, 1997, 2317, 2917, 2003, 1037, 20057, 12326, 10474, 2557, 2655, 13260, 1001, 1042, 2100, 2546, 2683, 14526, 10760, 2557, 2265, 4836, 2012, 2184, 1024, 4002, 1052, 1012, 1049, 1012, 2789, 3115, 2051, 1012, 2076, 1996, 2265, 1010, 20587, 2015, 4415, 2655, 2005, 11404, 2075, 1998, 4288, 1997, 2317, 2111, 1012, 1037, 1016, 1024, 4464, 3371, 12528, 2013, 1996, 2557, 2265, 2064, 2022, 2657, 2182, 1012, 2009, 2001, 3024, 2000, 7987, 20175, 8237, 2102, 3146, 2011, 2619, 2040, 2052, 2066, 2000, 2022, 3615, 2000, 2004, 24181, 1012, 2002, 2038, 2525, 2363, 2331, 8767, 2004, 1037, 2765, 1997, 22602, 1001, 1042, 2100, 2546, 2683, 14526, 3034, 4455, 1012, 2019, 20293, 2304, 2158, 2056, 2043, 2216, 2388, 1042, 1008, 1008, 17710, 2869, 2024, 2011, 3209, 1010, 2008, 1055, 2043, 2043, 2057, 2323, 2707, 1042, 1008, 1008, 1008, 13749, 2068, 2039, 1012, 2066, 2027, 2079, 2149, 1010, 2043, 1037, 9129, 1997, 2068, 9152, 1008, 1008, 9413, 2015, 27006, 2378, 2028, 1997, 2149, 2041, 1010, 2008, 1055, 2129, 2057, 2323, 4897, 2039, 1012, 2002, 2056, 1010, 3426, 2057, 2525, 4897, 2039, 1999, 18542, 4312, 1012, 2045, 2323, 2022, 2416, 2030, 2698, 2304, 2388, 1042, 1008, 1008, 23616, 2545, 1010, 2156, 2008, 2317, 2711, 1010, 1998, 2059, 11404, 2037, 4632, 1012, 2292, 1055, 2735, 1996, 7251, 1012, 2027, 9530, 13102, 27559, 2008, 102]\n",
      "attention mask: [1, 1, 1, 1, 1, 1, 1, 1, 1, 1, 1, 1, 1, 1, 1, 1, 1, 1, 1, 1, 1, 1, 1, 1, 1, 1, 1, 1, 1, 1, 1, 1, 1, 1, 1, 1, 1, 1, 1, 1, 1, 1, 1, 1, 1, 1, 1, 1, 1, 1, 1, 1, 1, 1, 1, 1, 1, 1, 1, 1, 1, 1, 1, 1, 1, 1, 1, 1, 1, 1, 1, 1, 1, 1, 1, 1, 1, 1, 1, 1, 1, 1, 1, 1, 1, 1, 1, 1, 1, 1, 1, 1, 1, 1, 1, 1, 1, 1, 1, 1, 1, 1, 1, 1, 1, 1, 1, 1, 1, 1, 1, 1, 1, 1, 1, 1, 1, 1, 1, 1, 1, 1, 1, 1, 1, 1, 1, 1, 1, 1, 1, 1, 1, 1, 1, 1, 1, 1, 1, 1, 1, 1, 1, 1, 1, 1, 1, 1, 1, 1, 1, 1, 1, 1, 1, 1, 1, 1, 1, 1, 1, 1, 1, 1, 1, 1, 1, 1, 1, 1, 1, 1, 1, 1, 1, 1, 1, 1, 1, 1, 1, 1, 1, 1, 1, 1, 1, 1, 1, 1, 1, 1, 1, 1, 1, 1, 1, 1, 1, 1, 1, 1, 1, 1, 1, 1, 1, 1, 1, 1, 1, 1, 1, 1, 1, 1, 1, 1, 1, 1, 1, 1, 1, 1, 1, 1, 1, 1, 1, 1, 1, 1, 1, 1, 1, 1, 1, 1, 1, 1, 1, 1, 1, 1, 1, 1, 1, 1, 1, 1, 1, 1, 1, 1, 1, 1, 1, 1, 1, 1, 1, 1, 1, 1, 1, 1, 1, 1, 1, 1, 1, 1, 1, 1, 1, 1, 1, 1, 1, 1, 1, 1, 1, 1, 1, 1, 1, 1, 1, 1, 1, 1, 1, 1, 1, 1, 1, 1, 1, 1, 1, 1, 1, 1, 1, 1, 1, 1, 1, 1, 1, 1, 1, 1, 1, 1, 1, 1, 1, 1, 1, 1, 1, 1, 1, 1, 1, 1, 1, 1, 1, 1, 1, 1, 1, 1, 1, 1, 1, 1, 1, 1, 1, 1, 1, 1, 1, 1, 1, 1, 1, 1, 1, 1, 1, 1, 1, 1, 1, 1, 1, 1, 1, 1, 1, 1, 1, 1, 1, 1, 1, 1, 1, 1, 1, 1, 1, 1, 1, 1, 1, 1, 1, 1]\n"
     ]
    }
   ],
   "source": [
    "MODEL_NAME = 'distilbert-base-uncased'\n",
    "# DistilBERT maximum token limit\n",
    "MAX_LEN = 384\n",
    "\n",
    "\n",
    "review = X[0]\n",
    "\n",
    "# load the tokenizer\n",
    "tkzr = DistilBertTokenizer.from_pretrained(MODEL_NAME)\n",
    "\n",
    "# encode the review\n",
    "inputs = tkzr(review, max_length=MAX_LEN, truncation=True, padding=True)\n",
    "\n",
    "# print the review and the encoded inputs\n",
    "print(f'review: \\'{review}\\'')\n",
    "print(f'input ids: {inputs[\"input_ids\"]}')\n",
    "print(f'attention mask: {inputs[\"attention_mask\"]}')\n"
   ]
  },
  {
   "cell_type": "code",
   "execution_count": 29,
   "metadata": {},
   "outputs": [],
   "source": [
    "# encode all the reviews\n",
    "encodings = tkzr(list(X), max_length=MAX_LEN, truncation=True, padding=True)"
   ]
  },
  {
   "cell_type": "code",
   "execution_count": 30,
   "metadata": {},
   "outputs": [],
   "source": [
    "# get our dataset\n",
    "tfdataset = tf.data.Dataset.from_tensor_slices((dict(encodings), y))"
   ]
  },
  {
   "cell_type": "code",
   "execution_count": 31,
   "metadata": {},
   "outputs": [],
   "source": [
    "TEST_SPLIT = 0.2\n",
    "BATCH_SIZE = 2\n",
    "\n",
    "train_size = int(len(X) * (1-TEST_SPLIT))\n",
    "\n",
    "# split the dataset into training and testing sets\n",
    "tfdataset = tfdataset.shuffle(len(X))\n",
    "tfdataset_train = tfdataset.take(train_size)\n",
    "tfdataset_test = tfdataset.skip(train_size)\n",
    "\n",
    "tfdataset_train = tfdataset_train.batch(BATCH_SIZE)\n",
    "tfdataset_test = tfdataset_test.batch(BATCH_SIZE)"
   ]
  },
  {
   "cell_type": "code",
   "execution_count": 32,
   "metadata": {},
   "outputs": [
    {
     "name": "stdout",
     "output_type": "stream",
     "text": [
      "WARNING:tensorflow:From d:\\Projects\\Python\\fake-news-analysis\\env\\lib\\site-packages\\tf_keras\\src\\backend.py:873: The name tf.get_default_graph is deprecated. Please use tf.compat.v1.get_default_graph instead.\n",
      "\n"
     ]
    },
    {
     "name": "stderr",
     "output_type": "stream",
     "text": [
      "Some weights of the PyTorch model were not used when initializing the TF 2.0 model TFDistilBertForSequenceClassification: ['vocab_layer_norm.weight', 'vocab_projector.bias', 'vocab_layer_norm.bias', 'vocab_transform.bias', 'vocab_transform.weight']\n",
      "- This IS expected if you are initializing TFDistilBertForSequenceClassification from a PyTorch model trained on another task or with another architecture (e.g. initializing a TFBertForSequenceClassification model from a BertForPreTraining model).\n",
      "- This IS NOT expected if you are initializing TFDistilBertForSequenceClassification from a PyTorch model that you expect to be exactly identical (e.g. initializing a TFBertForSequenceClassification model from a BertForSequenceClassification model).\n",
      "Some weights or buffers of the TF 2.0 model TFDistilBertForSequenceClassification were not initialized from the PyTorch model and are newly initialized: ['pre_classifier.weight', 'pre_classifier.bias', 'classifier.weight', 'classifier.bias']\n",
      "You should probably TRAIN this model on a down-stream task to be able to use it for predictions and inference.\n"
     ]
    },
    {
     "name": "stdout",
     "output_type": "stream",
     "text": [
      "WARNING:tensorflow:From d:\\Projects\\Python\\fake-news-analysis\\env\\lib\\site-packages\\tf_keras\\src\\optimizers\\__init__.py:317: The name tf.train.Optimizer is deprecated. Please use tf.compat.v1.train.Optimizer instead.\n",
      "\n",
      "Epoch 1/2\n",
      "WARNING:tensorflow:From d:\\Projects\\Python\\fake-news-analysis\\env\\lib\\site-packages\\tf_keras\\src\\utils\\tf_utils.py:492: The name tf.ragged.RaggedTensorValue is deprecated. Please use tf.compat.v1.ragged.RaggedTensorValue instead.\n",
      "\n",
      "WARNING:tensorflow:From d:\\Projects\\Python\\fake-news-analysis\\env\\lib\\site-packages\\tf_keras\\src\\engine\\base_layer_utils.py:384: The name tf.executing_eagerly_outside_functions is deprecated. Please use tf.compat.v1.executing_eagerly_outside_functions instead.\n",
      "\n",
      "28607/28607 [==============================] - 23402s 818ms/step - loss: 0.6959 - accuracy: 0.5067\n",
      "Epoch 2/2\n",
      "28607/28607 [==============================] - 23652s 827ms/step - loss: 0.6935 - accuracy: 0.5043\n"
     ]
    },
    {
     "data": {
      "text/plain": [
       "<tf_keras.src.callbacks.History at 0x1adf79c28c0>"
      ]
     },
     "execution_count": 32,
     "metadata": {},
     "output_type": "execute_result"
    }
   ],
   "source": [
    "N_EPOCHS = 2\n",
    "LEARNING_RATE=3e-5\n",
    "\n",
    "# load the model, find losses, compile\n",
    "model = TFDistilBertForSequenceClassification.from_pretrained(MODEL_NAME)\n",
    "loss = losses.SparseCategoricalCrossentropy(from_logits=True)\n",
    "model.compile(optimizer=\"adam\", loss=loss, metrics=['accuracy'])\n",
    "\n",
    "# fit the model\n",
    "model.fit(tfdataset_train, batch_size=BATCH_SIZE, epochs=N_EPOCHS)"
   ]
  },
  {
   "cell_type": "code",
   "execution_count": 33,
   "metadata": {},
   "outputs": [
    {
     "name": "stdout",
     "output_type": "stream",
     "text": [
      "7152/7152 [==============================] - 1012s 141ms/step - loss: 0.6931 - accuracy: 0.5084\n",
      "{'loss': 0.6930795311927795, 'accuracy': 0.5083892345428467}\n"
     ]
    }
   ],
   "source": [
    "# evaluate how model did\n",
    "benchmarks = model.evaluate(tfdataset_test, return_dict=True, batch_size=BATCH_SIZE)\n",
    "print(benchmarks)"
   ]
  },
  {
   "cell_type": "code",
   "execution_count": null,
   "metadata": {},
   "outputs": [],
   "source": [
    "# save the model and model info\n",
    "model.save_pretrained(MODEL_PATH)\n",
    "with open(MODEL_INFO_PATH, 'wb') as f:\n",
    "    pickle.dump((MODEL_NAME, MAX_LEN), f)"
   ]
  },
  {
   "cell_type": "code",
   "execution_count": 35,
   "metadata": {},
   "outputs": [],
   "source": [
    "# Method for predicting - used later on\n",
    "def create_predictor(model, model_name, max_len):\n",
    "    \"\"\"A factory function for creating predictions using the given model.\n",
    "\n",
    "    Args:\n",
    "        model (_type_): The model used for predictions\n",
    "        model_name (_type_): The name of the model\n",
    "        max_len (_type_): The maximum token length of the model\n",
    "\n",
    "    Returns:\n",
    "        \n",
    "    \"\"\"\n",
    "    tkzr = DistilBertTokenizer.from_pretrained(model_name)\n",
    "    def predict_proba(text):\n",
    "        x = [text]\n",
    "\n",
    "        encodings = tkzr(x, max_len=max_len, truncation=True, padding=True)\n",
    "        tfdataset = tf.data.Dataset.from_tensor_slices(dict(encodings))\n",
    "        tfdataset = tfdataset.batch(1)\n",
    "\n",
    "        preds = model.predict(tfdataset).logits\n",
    "        preds = activations.softmax(tf.convert_to_tensor(preds)).numpy()\n",
    "        return preds[0][0]\n",
    "    \n",
    "    return predict_proba"
   ]
  },
  {
   "cell_type": "code",
   "execution_count": 36,
   "metadata": {},
   "outputs": [
    {
     "name": "stderr",
     "output_type": "stream",
     "text": [
      "Keyword arguments {'max_len': 384} not recognized.\n"
     ]
    },
    {
     "name": "stdout",
     "output_type": "stream",
     "text": [
      "1/1 [==============================] - 1s 995ms/step\n"
     ]
    },
    {
     "data": {
      "text/plain": [
       "np.float32(0.48509187)"
      ]
     },
     "execution_count": 36,
     "metadata": {},
     "output_type": "execute_result"
    }
   ],
   "source": [
    "# make predictor \n",
    "fake_news_clf = create_predictor(model, MODEL_NAME, MAX_LEN)\n",
    "fake_news_clf(X[0])"
   ]
  },
  {
   "cell_type": "code",
   "execution_count": null,
   "metadata": {},
   "outputs": [],
   "source": [
    "with open(MODEL_INFO_PATH, \"rb\") as f:\n",
    "    model_name, max_len = pickle.load(f)\n",
    "loaded_model = TFDistilBertForSequenceClassification.from_pretrained(MODEL_PATH)\n",
    "\n",
    "fake_news_clf = create_predictor(loaded_model, model_name, max_len)\n",
    "\n",
    "fake_news_clf(X[0])"
   ]
  },
  {
   "cell_type": "markdown",
   "metadata": {},
   "source": [
    "# ***Part III: Challenges to Overcome***\n",
    "\n",
    "Due: 12/8/2024\n",
    "\n",
    "Authors:\n",
    "- Preston Knepper\n",
    "- Zachary Eanes\n",
    "- Kevin McCall\n",
    "\n",
    "In this section of the assignment, we will be discussing the challenges we faced while working on our project. This includes challenges with data preprocessing, model training, and other aspects of the project.\n",
    "\n",
    "---\n",
    "\n",
    "## ***EDA Challenges***\n",
    "\n",
    "One of the main challenges we faced during data preprocessing and handling was __engineering more features to create a robust dataset to train on__. Using just the titles or text didn't feel like enough to us, so we want to engineer more features. The entire dataset had plenty of rows for us to train on, but the lack of columns which explained the fake/true news articles just seemed lacking. This was a challenge __we overcame by engineering the features dealing with the lengths of titles and text__, and had to get extra creative by counting __specifically uppercase letters__. We found it difficult in general to find features that would be useful for our model, but we were able to overcome this challenge by thinking outside the box. We also we able to address this by exploring other ideas before considering if we should add them to the dataset. This includes trying to find common terms throughout the text, seeing the typos present, and counting the number of occurrences of words in all of the texts or titles.\n",
    "\n",
    "Another issue we faced during EDA was __effectively visualizing our dataset through plots__. We found it difficult to create plots which were both informative and simple to read, as we had a large dataset with few columns. With the columns that were present before feature engineering, it was practically impossible to plot what was present effectively. We had no information that was categorical or numerical, so we were forced to rely on engineered features to create plots. After creating features dealing with the lengths of many different aspects of the texts and titles, we were able to then create plots which revealed some trends (such as title length being longer for true news articles). This was a challenge we __overcame by engineering more features and then creating plots based on these features__.\n",
    "\n",
    "## ***Model Training Challenges***\n",
    "\n",
    "The most present challenge we encountered during training was __computational limits when trying to use text to train__. This is actually an issue we weren't able to specifically overcome, even after trying it on machines with powerful graphics cards and high amounts of RAM. We found that the text was too large to process and would cause the kernel to crash. This was a challenge we were unable to overcome, and we had to resort to training on just the titles. We were also able to just train on the engineered features and found surprising results, especially since we were able to get good accuracy without any text or original information from the dataset. \n",
    "\n",
    "Another challenge we encountered, but couldn't really do anything about, was __model training time__. If we wanted to retrain a model with different parameters or features, it would take a long time to train. This was a challenge we were \"able\" to overcome simply by using more powerful machines, such as Kevin's desktop, which has a RTX 3070 GPU to improve training times. It was a challenge different from many others, but one we encountered. \n",
    "\n",
    "Lastly, we had issues with __training based on text in general__. Our text fields (text and title) are fields with a lot of characters, but they're not categorical or numerical data. This made it difficult to train on, as we either had to engineer new features which we numerical, or use a Bag of Words to get numerical information from the text itself. We found the Bag of Words matrix highly effective, and Zach was able to find resources about it after researching about this specific issue. However, using the Bag of Words This was a challenge we __overcame by using the Bag of Words matrix__ to train on the text fields."
   ]
  }
 ],
 "metadata": {
  "kernelspec": {
   "display_name": "env",
   "language": "python",
   "name": "python3"
  },
  "language_info": {
   "codemirror_mode": {
    "name": "ipython",
    "version": 3
   },
   "file_extension": ".py",
   "mimetype": "text/x-python",
   "name": "python",
   "nbconvert_exporter": "python",
   "pygments_lexer": "ipython3",
   "version": "3.12.5"
  }
 },
 "nbformat": 4,
 "nbformat_minor": 2
}
